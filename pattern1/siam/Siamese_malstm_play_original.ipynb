{
 "cells": [
  {
   "cell_type": "code",
   "execution_count": 1,
   "metadata": {},
   "outputs": [
    {
     "name": "stdout",
     "output_type": "stream",
     "text": [
      "Requirement already satisfied: numpy==1.19.5 in c:\\users\\natthawattungruethai\\appdata\\roaming\\python\\python38\\site-packages (1.19.5)\n"
     ]
    }
   ],
   "source": [
    "!pip install numpy==1.19.5 --user"
   ]
  },
  {
   "cell_type": "code",
   "execution_count": 2,
   "metadata": {},
   "outputs": [
    {
     "name": "stdout",
     "output_type": "stream",
     "text": [
      "Requirement already satisfied: h5py==2.10.0 in c:\\programdata\\anaconda3\\lib\\site-packages (2.10.0)\n",
      "Requirement already satisfied: numpy>=1.7 in c:\\users\\natthawattungruethai\\appdata\\roaming\\python\\python38\\site-packages (from h5py==2.10.0) (1.19.5)\n",
      "Requirement already satisfied: six in c:\\programdata\\anaconda3\\lib\\site-packages (from h5py==2.10.0) (1.15.0)\n"
     ]
    }
   ],
   "source": [
    "!pip install h5py==2.10.0 --user"
   ]
  },
  {
   "cell_type": "code",
   "execution_count": 2,
   "metadata": {},
   "outputs": [
    {
     "name": "stdout",
     "output_type": "stream",
     "text": [
      "Requirement already satisfied: gensim==3.6.0 in /home/jupyter-e22vvb/.local/lib/python3.7/site-packages (3.6.0)\n",
      "Requirement already satisfied: scipy>=0.18.1 in /opt/tljh/user/lib/python3.7/site-packages (from gensim==3.6.0) (1.6.0)\n",
      "Requirement already satisfied: numpy>=1.11.3 in /home/jupyter-e22vvb/.local/lib/python3.7/site-packages (from gensim==3.6.0) (1.20.3)\n",
      "Requirement already satisfied: six>=1.5.0 in /home/jupyter-e22vvb/.local/lib/python3.7/site-packages (from gensim==3.6.0) (1.16.0)\n",
      "Requirement already satisfied: smart-open>=1.2.1 in /home/jupyter-e22vvb/.local/lib/python3.7/site-packages (from gensim==3.6.0) (5.0.0)\n"
     ]
    }
   ],
   "source": [
    "!pip install gensim==3.6.0 --user"
   ]
  },
  {
   "cell_type": "code",
   "execution_count": 3,
   "metadata": {
    "colab": {
     "base_uri": "https://localhost:8080/"
    },
    "executionInfo": {
     "elapsed": 4035,
     "status": "ok",
     "timestamp": 1620716501332,
     "user": {
      "displayName": "Natkanok Poksappaiboon",
      "photoUrl": "",
      "userId": "02284855325556491333"
     },
     "user_tz": -420
    },
    "id": "wxRqFag-N8dW",
    "outputId": "b5211c30-c91c-472d-f826-057ad5c61271"
   },
   "outputs": [
    {
     "name": "stdout",
     "output_type": "stream",
     "text": [
      "Requirement already satisfied: deepcut in /home/jupyter-e22vvb/.local/lib/python3.7/site-packages (0.7.0.0)\n",
      "Requirement already satisfied: h5py in /home/jupyter-e22vvb/.local/lib/python3.7/site-packages (from deepcut) (3.2.1)\n",
      "Requirement already satisfied: scipy in /opt/tljh/user/lib/python3.7/site-packages (from deepcut) (1.6.0)\n",
      "Requirement already satisfied: numpy in /home/jupyter-e22vvb/.local/lib/python3.7/site-packages (from deepcut) (1.20.3)\n",
      "Requirement already satisfied: tensorflow>=2.0.0 in /home/jupyter-e22vvb/.local/lib/python3.7/site-packages (from deepcut) (2.4.1)\n",
      "Requirement already satisfied: pandas in /opt/tljh/user/lib/python3.7/site-packages (from deepcut) (1.2.2)\n",
      "Requirement already satisfied: scikit-learn in /home/jupyter-e22vvb/.local/lib/python3.7/site-packages (from deepcut) (0.24.2)\n",
      "Requirement already satisfied: cached-property; python_version < \"3.8\" in /home/jupyter-e22vvb/.local/lib/python3.7/site-packages (from h5py->deepcut) (1.5.2)\n",
      "Requirement already satisfied: absl-py~=0.10 in /home/jupyter-e22vvb/.local/lib/python3.7/site-packages (from tensorflow>=2.0.0->deepcut) (0.12.0)\n",
      "Requirement already satisfied: tensorboard~=2.4 in /home/jupyter-e22vvb/.local/lib/python3.7/site-packages (from tensorflow>=2.0.0->deepcut) (2.5.0)\n",
      "Requirement already satisfied: flatbuffers~=1.12.0 in /home/jupyter-e22vvb/.local/lib/python3.7/site-packages (from tensorflow>=2.0.0->deepcut) (1.12)\n",
      "Requirement already satisfied: gast==0.3.3 in /home/jupyter-e22vvb/.local/lib/python3.7/site-packages (from tensorflow>=2.0.0->deepcut) (0.3.3)\n",
      "Requirement already satisfied: wrapt~=1.12.1 in /home/jupyter-e22vvb/.local/lib/python3.7/site-packages (from tensorflow>=2.0.0->deepcut) (1.12.1)\n",
      "Requirement already satisfied: opt-einsum~=3.3.0 in /home/jupyter-e22vvb/.local/lib/python3.7/site-packages (from tensorflow>=2.0.0->deepcut) (3.3.0)\n",
      "Requirement already satisfied: typing-extensions~=3.7.4 in /opt/tljh/user/lib/python3.7/site-packages (from tensorflow>=2.0.0->deepcut) (3.7.4.3)\n",
      "Requirement already satisfied: grpcio~=1.32.0 in /home/jupyter-e22vvb/.local/lib/python3.7/site-packages (from tensorflow>=2.0.0->deepcut) (1.32.0)\n",
      "Requirement already satisfied: wheel~=0.35 in /home/jupyter-e22vvb/.local/lib/python3.7/site-packages (from tensorflow>=2.0.0->deepcut) (0.36.2)\n",
      "Requirement already satisfied: google-pasta~=0.2 in /home/jupyter-e22vvb/.local/lib/python3.7/site-packages (from tensorflow>=2.0.0->deepcut) (0.2.0)\n",
      "Requirement already satisfied: termcolor~=1.1.0 in /home/jupyter-e22vvb/.local/lib/python3.7/site-packages (from tensorflow>=2.0.0->deepcut) (1.1.0)\n",
      "Requirement already satisfied: protobuf>=3.9.2 in /home/jupyter-e22vvb/.local/lib/python3.7/site-packages (from tensorflow>=2.0.0->deepcut) (3.16.0)\n",
      "Requirement already satisfied: astunparse~=1.6.3 in /home/jupyter-e22vvb/.local/lib/python3.7/site-packages (from tensorflow>=2.0.0->deepcut) (1.6.3)\n",
      "Requirement already satisfied: keras-preprocessing~=1.1.2 in /home/jupyter-e22vvb/.local/lib/python3.7/site-packages (from tensorflow>=2.0.0->deepcut) (1.1.2)\n",
      "Collecting six~=1.15.0 (from tensorflow>=2.0.0->deepcut)\n",
      "  Using cached https://files.pythonhosted.org/packages/ee/ff/48bde5c0f013094d729fe4b0316ba2a24774b3ff1c52d924a8a4cb04078a/six-1.15.0-py2.py3-none-any.whl\n",
      "Requirement already satisfied: tensorflow-estimator<2.5.0,>=2.4.0 in /home/jupyter-e22vvb/.local/lib/python3.7/site-packages (from tensorflow>=2.0.0->deepcut) (2.4.0)\n",
      "Requirement already satisfied: python-dateutil>=2.7.3 in /opt/tljh/user/lib/python3.7/site-packages (from pandas->deepcut) (2.8.1)\n",
      "Requirement already satisfied: pytz>=2017.3 in /opt/tljh/user/lib/python3.7/site-packages (from pandas->deepcut) (2021.1)\n",
      "Requirement already satisfied: joblib>=0.11 in /opt/tljh/user/lib/python3.7/site-packages (from scikit-learn->deepcut) (1.0.1)\n",
      "Requirement already satisfied: threadpoolctl>=2.0.0 in /opt/tljh/user/lib/python3.7/site-packages (from scikit-learn->deepcut) (2.1.0)\n",
      "Requirement already satisfied: requests<3,>=2.21.0 in /opt/tljh/user/lib/python3.7/site-packages (from tensorboard~=2.4->tensorflow>=2.0.0->deepcut) (2.22.0)\n",
      "Requirement already satisfied: tensorboard-data-server<0.7.0,>=0.6.0 in /home/jupyter-e22vvb/.local/lib/python3.7/site-packages (from tensorboard~=2.4->tensorflow>=2.0.0->deepcut) (0.6.1)\n",
      "Requirement already satisfied: tensorboard-plugin-wit>=1.6.0 in /home/jupyter-e22vvb/.local/lib/python3.7/site-packages (from tensorboard~=2.4->tensorflow>=2.0.0->deepcut) (1.8.0)\n",
      "Requirement already satisfied: werkzeug>=0.11.15 in /home/jupyter-e22vvb/.local/lib/python3.7/site-packages (from tensorboard~=2.4->tensorflow>=2.0.0->deepcut) (1.0.1)\n",
      "Requirement already satisfied: setuptools>=41.0.0 in /opt/tljh/user/lib/python3.7/site-packages (from tensorboard~=2.4->tensorflow>=2.0.0->deepcut) (41.0.1)\n",
      "Requirement already satisfied: google-auth-oauthlib<0.5,>=0.4.1 in /home/jupyter-e22vvb/.local/lib/python3.7/site-packages (from tensorboard~=2.4->tensorflow>=2.0.0->deepcut) (0.4.4)\n",
      "Requirement already satisfied: google-auth<2,>=1.6.3 in /home/jupyter-e22vvb/.local/lib/python3.7/site-packages (from tensorboard~=2.4->tensorflow>=2.0.0->deepcut) (1.30.0)\n",
      "Requirement already satisfied: markdown>=2.6.8 in /home/jupyter-e22vvb/.local/lib/python3.7/site-packages (from tensorboard~=2.4->tensorflow>=2.0.0->deepcut) (3.3.4)\n",
      "Requirement already satisfied: chardet<3.1.0,>=3.0.2 in /opt/tljh/user/lib/python3.7/site-packages (from requests<3,>=2.21.0->tensorboard~=2.4->tensorflow>=2.0.0->deepcut) (3.0.4)\n",
      "Requirement already satisfied: urllib3!=1.25.0,!=1.25.1,<1.26,>=1.21.1 in /opt/tljh/user/lib/python3.7/site-packages (from requests<3,>=2.21.0->tensorboard~=2.4->tensorflow>=2.0.0->deepcut) (1.24.2)\n",
      "Requirement already satisfied: idna<2.9,>=2.5 in /opt/tljh/user/lib/python3.7/site-packages (from requests<3,>=2.21.0->tensorboard~=2.4->tensorflow>=2.0.0->deepcut) (2.8)\n",
      "Requirement already satisfied: certifi>=2017.4.17 in /opt/tljh/user/lib/python3.7/site-packages (from requests<3,>=2.21.0->tensorboard~=2.4->tensorflow>=2.0.0->deepcut) (2020.12.5)\n",
      "Requirement already satisfied: requests-oauthlib>=0.7.0 in /home/jupyter-e22vvb/.local/lib/python3.7/site-packages (from google-auth-oauthlib<0.5,>=0.4.1->tensorboard~=2.4->tensorflow>=2.0.0->deepcut) (1.3.0)\n",
      "Requirement already satisfied: cachetools<5.0,>=2.0.0 in /home/jupyter-e22vvb/.local/lib/python3.7/site-packages (from google-auth<2,>=1.6.3->tensorboard~=2.4->tensorflow>=2.0.0->deepcut) (4.2.2)\n",
      "Requirement already satisfied: rsa<5,>=3.1.4; python_version >= \"3.6\" in /home/jupyter-e22vvb/.local/lib/python3.7/site-packages (from google-auth<2,>=1.6.3->tensorboard~=2.4->tensorflow>=2.0.0->deepcut) (4.7.2)\n",
      "Requirement already satisfied: pyasn1-modules>=0.2.1 in /home/jupyter-e22vvb/.local/lib/python3.7/site-packages (from google-auth<2,>=1.6.3->tensorboard~=2.4->tensorflow>=2.0.0->deepcut) (0.2.8)\n",
      "Requirement already satisfied: importlib-metadata; python_version < \"3.8\" in /opt/tljh/user/lib/python3.7/site-packages (from markdown>=2.6.8->tensorboard~=2.4->tensorflow>=2.0.0->deepcut) (3.4.0)\n",
      "Requirement already satisfied: oauthlib>=3.0.0 in /opt/tljh/user/lib/python3.7/site-packages (from requests-oauthlib>=0.7.0->google-auth-oauthlib<0.5,>=0.4.1->tensorboard~=2.4->tensorflow>=2.0.0->deepcut) (3.1.0)\n",
      "Requirement already satisfied: pyasn1>=0.1.3 in /home/jupyter-e22vvb/.local/lib/python3.7/site-packages (from rsa<5,>=3.1.4; python_version >= \"3.6\"->google-auth<2,>=1.6.3->tensorboard~=2.4->tensorflow>=2.0.0->deepcut) (0.4.8)\n",
      "Requirement already satisfied: zipp>=0.5 in /opt/tljh/user/lib/python3.7/site-packages (from importlib-metadata; python_version < \"3.8\"->markdown>=2.6.8->tensorboard~=2.4->tensorflow>=2.0.0->deepcut) (3.4.0)\n",
      "\u001b[31mERROR: tensorflow 2.4.1 has requirement h5py~=2.10.0, but you'll have h5py 3.2.1 which is incompatible.\u001b[0m\n",
      "\u001b[31mERROR: tensorflow 2.4.1 has requirement numpy~=1.19.2, but you'll have numpy 1.20.3 which is incompatible.\u001b[0m\n",
      "Installing collected packages: six\n",
      "  Found existing installation: six 1.16.0\n",
      "    Uninstalling six-1.16.0:\n",
      "      Successfully uninstalled six-1.16.0\n",
      "Successfully installed six-1.15.0\n"
     ]
    }
   ],
   "source": [
    "!pip install deepcut --user"
   ]
  },
  {
   "cell_type": "code",
   "execution_count": 4,
   "metadata": {
    "colab": {
     "base_uri": "https://localhost:8080/"
    },
    "executionInfo": {
     "elapsed": 5877,
     "status": "ok",
     "timestamp": 1620716503182,
     "user": {
      "displayName": "Natkanok Poksappaiboon",
      "photoUrl": "",
      "userId": "02284855325556491333"
     },
     "user_tz": -420
    },
    "id": "rHO_3T9BOGui",
    "outputId": "1a44454f-1da2-4648-cdbb-c18110a79609"
   },
   "outputs": [
    {
     "name": "stdout",
     "output_type": "stream",
     "text": [
      "Requirement already satisfied: pythainlp in /home/jupyter-e22vvb/.local/lib/python3.7/site-packages (2.3.1)\n",
      "Requirement already satisfied: requests>=2.22.0 in /opt/tljh/user/lib/python3.7/site-packages (from pythainlp) (2.22.0)\n",
      "Requirement already satisfied: python-crfsuite>=0.9.6 in /home/jupyter-e22vvb/.local/lib/python3.7/site-packages (from pythainlp) (0.9.7)\n",
      "Requirement already satisfied: tinydb>=3.0 in /home/jupyter-e22vvb/.local/lib/python3.7/site-packages (from pythainlp) (4.4.0)\n",
      "Requirement already satisfied: idna<2.9,>=2.5 in /opt/tljh/user/lib/python3.7/site-packages (from requests>=2.22.0->pythainlp) (2.8)\n",
      "Requirement already satisfied: urllib3!=1.25.0,!=1.25.1,<1.26,>=1.21.1 in /opt/tljh/user/lib/python3.7/site-packages (from requests>=2.22.0->pythainlp) (1.24.2)\n",
      "Requirement already satisfied: certifi>=2017.4.17 in /opt/tljh/user/lib/python3.7/site-packages (from requests>=2.22.0->pythainlp) (2020.12.5)\n",
      "Requirement already satisfied: chardet<3.1.0,>=3.0.2 in /opt/tljh/user/lib/python3.7/site-packages (from requests>=2.22.0->pythainlp) (3.0.4)\n"
     ]
    }
   ],
   "source": [
    "!pip install pythainlp --user"
   ]
  },
  {
   "cell_type": "code",
   "execution_count": 3,
   "metadata": {},
   "outputs": [
    {
     "name": "stdout",
     "output_type": "stream",
     "text": [
      "Requirement already satisfied: nltk in c:\\programdata\\anaconda3\\lib\\site-packages (3.5)\n",
      "Requirement already satisfied: regex in c:\\programdata\\anaconda3\\lib\\site-packages (from nltk) (2020.10.15)\n",
      "Requirement already satisfied: joblib in c:\\programdata\\anaconda3\\lib\\site-packages (from nltk) (0.17.0)\n",
      "Requirement already satisfied: tqdm in c:\\programdata\\anaconda3\\lib\\site-packages (from nltk) (4.50.2)\n",
      "Requirement already satisfied: click in c:\\programdata\\anaconda3\\lib\\site-packages (from nltk) (7.1.2)\n"
     ]
    }
   ],
   "source": [
    "!pip install nltk --user"
   ]
  },
  {
   "cell_type": "code",
   "execution_count": 2,
   "metadata": {
    "id": "G9D118ZAOZZB"
   },
   "outputs": [
    {
     "name": "stderr",
     "output_type": "stream",
     "text": [
      "C:\\Users\\NATTHAWATTUNGRUETHAI\\AppData\\Roaming\\Python\\Python38\\site-packages\\gensim\\utils.py:1212: UserWarning: detected Windows; aliasing chunkize to chunkize_serial\n",
      "  warnings.warn(\"detected Windows; aliasing chunkize to chunkize_serial\")\n"
     ]
    }
   ],
   "source": [
    "from pythainlp.corpus import thai_stopwords\n",
    "import deepcut\n",
    "from time import time\n",
    "import pandas as pd\n",
    "import numpy as np\n",
    "from gensim.models import KeyedVectors\n",
    "import re\n",
    "from nltk.corpus import stopwords\n",
    "from sklearn.model_selection import train_test_split\n",
    "import matplotlib.pyplot as plt\n",
    "import seaborn as sns\n",
    "\n",
    "import itertools\n",
    "import datetime\n",
    "import tensorflow\n",
    "from tensorflow.keras.preprocessing.sequence import pad_sequences\n",
    "from tensorflow.keras.models import Model\n",
    "from tensorflow.keras.layers import Input, Embedding, LSTM, Lambda\n",
    "import tensorflow.keras.backend as K\n",
    "from tensorflow.keras.optimizers import Adadelta\n",
    "from tensorflow.keras.callbacks import ModelCheckpoint"
   ]
  },
  {
   "cell_type": "code",
   "execution_count": 64,
   "metadata": {},
   "outputs": [],
   "source": [
    "from flask_ngrok import run_with_ngrok\n",
    "from flask import Flask, jsonify, request\n",
    "import json"
   ]
  },
  {
   "cell_type": "code",
   "execution_count": 3,
   "metadata": {
    "id": "5qw6hsPwOmcD"
   },
   "outputs": [],
   "source": [
    "#Clean Text\n",
    "def remove_repettition(text):\n",
    "    token_list = list(text)\n",
    "    if len(token_list) > 2:\n",
    "        filter_list = [True, True]\n",
    "        n = len(token_list)\n",
    "        for i in range(2, n):\n",
    "            if (token_list[i] == token_list[i-1]) and (token_list[i] == token_list[i-2]):\n",
    "                filter_list.append(False)\n",
    "            else:\n",
    "                filter_list.append(True)\n",
    "\n",
    "        output = ''.join(np.array(token_list)[filter_list])\n",
    "    else:\n",
    "        output = text\n",
    "    return output\n",
    "\n",
    "def cleansing(text):\n",
    "    # \\t, \\n, \\xa0 and other special characters. Replace by blank string\n",
    "    text = re.sub('[\\t\\n\\xa0\\\"\\'!?\\/\\(\\)%\\:\\=\\-\\+\\*\\_ๆ]', '', text)\n",
    "    \n",
    "    # Numbers. Replace by space\n",
    "    text = re.sub('[0-9]', ' ', text)\n",
    "    \n",
    "    # Dot. Replace by space\n",
    "    text = re.sub('[\\.]', ' ', text)\n",
    "    \n",
    "    # One or more consecutive space. Replace by single space\n",
    "    text = re.sub('\\s+',' ',text)\n",
    "    \n",
    "    # Remove 2 or more repettition\n",
    "    text = remove_repettition(text)\n",
    "    \n",
    "    return text"
   ]
  },
  {
   "cell_type": "code",
   "execution_count": 4,
   "metadata": {
    "id": "NNqVro6LPo8a"
   },
   "outputs": [],
   "source": [
    "import gensim\n",
    "wv_model = gensim.models.Word2Vec.load('corpus.th.model')"
   ]
  },
  {
   "cell_type": "code",
   "execution_count": 5,
   "metadata": {
    "id": "6cfjBM4tP4UK"
   },
   "outputs": [],
   "source": [
    "def word2idx(word):\n",
    "    index = 0\n",
    "    index = wv_model.wv.vocab[word].index\n",
    "    return index"
   ]
  },
  {
   "cell_type": "code",
   "execution_count": 6,
   "metadata": {
    "id": "oIAJw0p7P7XZ"
   },
   "outputs": [],
   "source": [
    "def word_index(listword):\n",
    "    dataset = []\n",
    "    vocabulary = dict()\n",
    "    inverse_vocabulary = ['<unk>']  # '<unk>' will never be used, it is only a placeholder for the [0, 0, ....0] embedding\n",
    "    for sentence in listword:\n",
    "        tmp = []\n",
    "        for w in sentence:\n",
    "            if w not in wv_model:\n",
    "                continue\n",
    "\n",
    "            if w not in vocabulary:\n",
    "                vocabulary[w] = len(inverse_vocabulary)\n",
    "                tmp.append(len(inverse_vocabulary))\n",
    "                inverse_vocabulary.append(w)\n",
    "            else:\n",
    "                tmp.append(word2idx(w))\n",
    "        dataset.append(tmp)\n",
    "    return np.array(dataset)"
   ]
  },
  {
   "cell_type": "code",
   "execution_count": 7,
   "metadata": {
    "id": "LO-WyseOP-li"
   },
   "outputs": [],
   "source": [
    "# define word embedding\n",
    "vocab_list = [(k, wv_model.wv[k]) for k, v in wv_model.wv.vocab.items()]\n",
    "embeddings_matrix = np.zeros((len(wv_model.wv.vocab.items()) + 1, wv_model.vector_size))\n",
    "for i in range(len(vocab_list)):\n",
    "    word = vocab_list[i][0]\n",
    "    embeddings_matrix[i + 1] = vocab_list[i][1]"
   ]
  },
  {
   "cell_type": "code",
   "execution_count": 8,
   "metadata": {
    "colab": {
     "base_uri": "https://localhost:8080/",
     "output_embedded_package_id": "1LVdY7-KDCP9EF2jZebOawVR_3jUQnSGM"
    },
    "executionInfo": {
     "elapsed": 6358,
     "status": "ok",
     "timestamp": 1620716838058,
     "user": {
      "displayName": "Natkanok Poksappaiboon",
      "photoUrl": "",
      "userId": "02284855325556491333"
     },
     "user_tz": -420
    },
    "id": "YzIv6bWzQC-a",
    "outputId": "14f29683-2dc8-45ec-f731-2f7f617dc726"
   },
   "outputs": [],
   "source": [
    "# vocab_list"
   ]
  },
  {
   "cell_type": "code",
   "execution_count": 9,
   "metadata": {
    "id": "XdooUj6QQITq"
   },
   "outputs": [],
   "source": [
    "EMBEDDING_DIM = 300\n",
    "embeddings_matrix = 1 * np.random.randn(len(vocab_list) + 1, EMBEDDING_DIM)  # This will be the embedding matrix\n",
    "embeddings_matrix[0] = 0  # So that the padding will be ignored"
   ]
  },
  {
   "cell_type": "code",
   "execution_count": 10,
   "metadata": {
    "id": "0FdjJe_VPdZ0"
   },
   "outputs": [],
   "source": [
    "# Model variables\n",
    "n_hidden = 256\n",
    "batch_size = 128\n",
    "n_epoch = 100\n",
    "max_seq_length = 2704"
   ]
  },
  {
   "cell_type": "code",
   "execution_count": 11,
   "metadata": {
    "colab": {
     "base_uri": "https://localhost:8080/"
    },
    "executionInfo": {
     "elapsed": 825,
     "status": "ok",
     "timestamp": 1620716858559,
     "user": {
      "displayName": "Natkanok Poksappaiboon",
      "photoUrl": "",
      "userId": "02284855325556491333"
     },
     "user_tz": -420
    },
    "id": "eqK0ymH9QKRy",
    "outputId": "31ac3c38-d119-42ac-f01c-2d5c3a8a06fe"
   },
   "outputs": [
    {
     "data": {
      "text/plain": [
       "array([[ 0.        ,  0.        ,  0.        , ...,  0.        ,\n",
       "         0.        ,  0.        ],\n",
       "       [ 0.65220199, -0.32731529,  1.22841682, ..., -1.51947888,\n",
       "        -0.38772034, -0.06970729],\n",
       "       [-0.66643464,  0.52571597,  1.44998285, ...,  0.26361773,\n",
       "        -0.19843948, -0.49874863],\n",
       "       ...,\n",
       "       [-1.37113419,  1.37313134,  0.9081039 , ..., -0.60839068,\n",
       "        -0.03872851, -0.48271785],\n",
       "       [-0.78363534,  1.28484431, -1.04603304, ..., -1.56876537,\n",
       "        -0.35188567, -1.1400886 ],\n",
       "       [ 0.46232648,  0.27177069, -0.35248443, ...,  1.50017236,\n",
       "        -1.67166177,  0.4091093 ]])"
      ]
     },
     "execution_count": 11,
     "metadata": {},
     "output_type": "execute_result"
    }
   ],
   "source": [
    "embeddings_matrix"
   ]
  },
  {
   "cell_type": "code",
   "execution_count": 12,
   "metadata": {
    "id": "an1uk86LQTio"
   },
   "outputs": [],
   "source": [
    "def exponent_neg_manhattan_distance(left, right):\n",
    "    ''' Helper function for the similarity estimate of the LSTMs outputs'''\n",
    "    return K.exp(-K.sum(K.abs(left-right), axis=1, keepdims=True))"
   ]
  },
  {
   "cell_type": "code",
   "execution_count": 13,
   "metadata": {
    "id": "JgPsQ8MlPfWA"
   },
   "outputs": [],
   "source": [
    "# The visible layer\n",
    "left_input = Input(shape=(max_seq_length,), dtype='int32')\n",
    "right_input = Input(shape=(max_seq_length,), dtype='int32')\n",
    "\n",
    "embedding_layer = Embedding(len(embeddings_matrix), EMBEDDING_DIM, weights=[embeddings_matrix], input_length=max_seq_length, trainable=False)\n",
    "\n",
    "# Embedded version of the inputs\n",
    "encoded_left = embedding_layer(left_input)\n",
    "encoded_right = embedding_layer(right_input)\n",
    "\n",
    "# Since this is a siamese network, both sides share the same LSTM\n",
    "shared_lstm = LSTM(n_hidden)\n",
    "\n",
    "left_output = shared_lstm(encoded_left)\n",
    "right_output = shared_lstm(encoded_right)\n",
    "\n",
    "# Calculates the distance as defined by the MaLSTM model\n",
    "malstm_distance = Lambda(function=lambda x: exponent_neg_manhattan_distance(x[0], x[1]),output_shape=lambda x: (x[0][0], 1))([left_output, right_output])\n",
    "\n",
    "# Pack it all up into a model\n",
    "malstm = Model([left_input, right_input], [malstm_distance])\n",
    "\n",
    "\n",
    "malstm.compile(loss='mean_squared_error', optimizer='adam', metrics=['accuracy'])\n",
    "\n",
    "# Start training\n",
    "training_start_time = time()"
   ]
  },
  {
   "cell_type": "code",
   "execution_count": 14,
   "metadata": {
    "colab": {
     "base_uri": "https://localhost:8080/"
    },
    "executionInfo": {
     "elapsed": 845,
     "status": "ok",
     "timestamp": 1620717012710,
     "user": {
      "displayName": "Natkanok Poksappaiboon",
      "photoUrl": "",
      "userId": "02284855325556491333"
     },
     "user_tz": -420
    },
    "id": "Nh9milBGQpYY",
    "outputId": "6383054e-67f5-410f-8332-50281e0c54f6"
   },
   "outputs": [
    {
     "name": "stdout",
     "output_type": "stream",
     "text": [
      "Model: \"model\"\n",
      "__________________________________________________________________________________________________\n",
      "Layer (type)                    Output Shape         Param #     Connected to                     \n",
      "==================================================================================================\n",
      "input_1 (InputLayer)            [(None, 2704)]       0                                            \n",
      "__________________________________________________________________________________________________\n",
      "input_2 (InputLayer)            [(None, 2704)]       0                                            \n",
      "__________________________________________________________________________________________________\n",
      "embedding (Embedding)           (None, 2704, 300)    9468300     input_1[0][0]                    \n",
      "                                                                 input_2[0][0]                    \n",
      "__________________________________________________________________________________________________\n",
      "lstm (LSTM)                     (None, 256)          570368      embedding[0][0]                  \n",
      "                                                                 embedding[1][0]                  \n",
      "__________________________________________________________________________________________________\n",
      "lambda (Lambda)                 (None, 1)            0           lstm[0][0]                       \n",
      "                                                                 lstm[1][0]                       \n",
      "==================================================================================================\n",
      "Total params: 10,038,668\n",
      "Trainable params: 570,368\n",
      "Non-trainable params: 9,468,300\n",
      "__________________________________________________________________________________________________\n"
     ]
    }
   ],
   "source": [
    "malstm.summary()"
   ]
  },
  {
   "cell_type": "code",
   "execution_count": 15,
   "metadata": {
    "id": "JUOlaUM6OylG"
   },
   "outputs": [],
   "source": [
    "# Load best weight from model\n",
    "malstm.load_weights('sm_colab_ka.h5')"
   ]
  },
  {
   "cell_type": "markdown",
   "metadata": {
    "id": "Y69P6GtuXAaB"
   },
   "source": [
    "#Test with Text"
   ]
  },
  {
   "cell_type": "code",
   "execution_count": 16,
   "metadata": {
    "id": "Kjaib296O0US"
   },
   "outputs": [],
   "source": [
    "def prepare_for_predict(input_questions):\n",
    "    q_input= []\n",
    "    cleansing(input_questions)\n",
    "    tokenized_input_1 =deepcut.tokenize(input_questions)\n",
    "    for sentence in tokenized_input_1:\n",
    "      q_input.append(sentence)\n",
    "    q_input= word_index(tokenized_input_1)\n",
    "    q_input = pad_sequences(q_input, maxlen=max_seq_length)\n",
    "    return q_input"
   ]
  },
  {
   "cell_type": "code",
   "execution_count": 17,
   "metadata": {
    "id": "FqS5TopZRDNn"
   },
   "outputs": [],
   "source": [
    "input1 = 'วิศวคอมเรียนหลักสุตรอะไรบ้างคะ'\n",
    "input2 = 'วิศวคอมมีหลักสุตรอะไรบ้าง'"
   ]
  },
  {
   "cell_type": "code",
   "execution_count": 18,
   "metadata": {
    "colab": {
     "base_uri": "https://localhost:8080/"
    },
    "executionInfo": {
     "elapsed": 16937,
     "status": "ok",
     "timestamp": 1620717135695,
     "user": {
      "displayName": "Natkanok Poksappaiboon",
      "photoUrl": "",
      "userId": "02284855325556491333"
     },
     "user_tz": -420
    },
    "id": "9gv2WrRQRH73",
    "outputId": "cb40184e-46e4-43f8-9b41-d6ed53055c05"
   },
   "outputs": [
    {
     "name": "stderr",
     "output_type": "stream",
     "text": [
      "<ipython-input-6-e36182fd4f37>:8: DeprecationWarning: Call to deprecated `__contains__` (Method will be removed in 4.0.0, use self.wv.__contains__() instead).\n",
      "  if w not in wv_model:\n",
      "<ipython-input-6-e36182fd4f37>:18: VisibleDeprecationWarning: Creating an ndarray from ragged nested sequences (which is a list-or-tuple of lists-or-tuples-or ndarrays with different lengths or shapes) is deprecated. If you meant to do this, you must specify 'dtype=object' when creating the ndarray\n",
      "  return np.array(dataset)\n"
     ]
    }
   ],
   "source": [
    "input1 = prepare_for_predict(input1)\n",
    "input2 = prepare_for_predict(input2)"
   ]
  },
  {
   "cell_type": "code",
   "execution_count": 19,
   "metadata": {
    "id": "aBWB72RBRKT3"
   },
   "outputs": [],
   "source": [
    "play_predict = malstm.predict(x=[input1, input2])"
   ]
  },
  {
   "cell_type": "code",
   "execution_count": 20,
   "metadata": {
    "colab": {
     "base_uri": "https://localhost:8080/"
    },
    "executionInfo": {
     "elapsed": 760,
     "status": "ok",
     "timestamp": 1620717151669,
     "user": {
      "displayName": "Natkanok Poksappaiboon",
      "photoUrl": "",
      "userId": "02284855325556491333"
     },
     "user_tz": -420
    },
    "id": "QJZjUBnbRP-B",
    "outputId": "8cdd5fb6-87ca-44a5-d958-8e79c2de6800"
   },
   "outputs": [
    {
     "name": "stdout",
     "output_type": "stream",
     "text": [
      "From model predection of 2 input question pair\n",
      "Question pairs are not Similar (is_duplicate = 0):\n",
      "   39.83%\n",
      "Question pairs are Similar (is_duplicate = 1):\n",
      "   60.17%\n"
     ]
    }
   ],
   "source": [
    "print('From model predection of 2 input question pair')\n",
    "print('Question pairs are not Similar (is_duplicate = 0):\\n   {}%'.format(100 - round(play_predict.mean()*100, 2)))\n",
    "print('Question pairs are Similar (is_duplicate = 1):\\n   {}%'.format(round(play_predict.mean()*100, 2)))"
   ]
  },
  {
   "cell_type": "markdown",
   "metadata": {
    "id": "z9rvOcqWW5sY"
   },
   "source": [
    "#Mocking Question from DB"
   ]
  },
  {
   "cell_type": "code",
   "execution_count": 21,
   "metadata": {
    "colab": {
     "base_uri": "https://localhost:8080/",
     "height": 402
    },
    "executionInfo": {
     "elapsed": 1243,
     "status": "ok",
     "timestamp": 1620718089261,
     "user": {
      "displayName": "Natkanok Poksappaiboon",
      "photoUrl": "",
      "userId": "02284855325556491333"
     },
     "user_tz": -420
    },
    "id": "BjaHxfYqRSKQ",
    "outputId": "9a22dc57-b706-458c-c6ff-ea6fb0e664dd"
   },
   "outputs": [
    {
     "data": {
      "text/html": [
       "<div>\n",
       "<style scoped>\n",
       "    .dataframe tbody tr th:only-of-type {\n",
       "        vertical-align: middle;\n",
       "    }\n",
       "\n",
       "    .dataframe tbody tr th {\n",
       "        vertical-align: top;\n",
       "    }\n",
       "\n",
       "    .dataframe thead th {\n",
       "        text-align: right;\n",
       "    }\n",
       "</style>\n",
       "<table border=\"1\" class=\"dataframe\">\n",
       "  <thead>\n",
       "    <tr style=\"text-align: right;\">\n",
       "      <th></th>\n",
       "      <th>id</th>\n",
       "      <th>qid1</th>\n",
       "      <th>qid2</th>\n",
       "      <th>question1</th>\n",
       "      <th>question2</th>\n",
       "      <th>is_duplicate</th>\n",
       "    </tr>\n",
       "  </thead>\n",
       "  <tbody>\n",
       "    <tr>\n",
       "      <th>0</th>\n",
       "      <td>1</td>\n",
       "      <td>33396</td>\n",
       "      <td>33493</td>\n",
       "      <td>วิศวะคอม/วิศวกรรมคอมพิวเตอร์ มีทั้งหมดกี่หลักส...</td>\n",
       "      <td>วิศวคอมหลักสูตรปกติมีระยะเวลาในการศึกษากี่ปี?</td>\n",
       "      <td>0</td>\n",
       "    </tr>\n",
       "    <tr>\n",
       "      <th>1</th>\n",
       "      <td>2</td>\n",
       "      <td>33396</td>\n",
       "      <td>33495</td>\n",
       "      <td>วิศวะคอม/วิศวกรรมคอมพิวเตอร์ มีทั้งหมดกี่หลักส...</td>\n",
       "      <td>วิศวะคอมมีทั้งหมดกี่หลักสูตร? มีหลักสูตรอะไรบ้าง?</td>\n",
       "      <td>1</td>\n",
       "    </tr>\n",
       "    <tr>\n",
       "      <th>2</th>\n",
       "      <td>3</td>\n",
       "      <td>33396</td>\n",
       "      <td>33497</td>\n",
       "      <td>วิศวะคอม/วิศวกรรมคอมพิวเตอร์ มีทั้งหมดกี่หลักส...</td>\n",
       "      <td>วิศวกรรมคอมพิวเตอร์มีทั้งหมดกี่หลักสูตร? มีหลั...</td>\n",
       "      <td>1</td>\n",
       "    </tr>\n",
       "    <tr>\n",
       "      <th>3</th>\n",
       "      <td>4</td>\n",
       "      <td>33396</td>\n",
       "      <td>33499</td>\n",
       "      <td>วิศวะคอม/วิศวกรรมคอมพิวเตอร์ มีทั้งหมดกี่หลักส...</td>\n",
       "      <td>วิศวะคอมมีทั้งหมดกี่หลักสูตร?</td>\n",
       "      <td>1</td>\n",
       "    </tr>\n",
       "    <tr>\n",
       "      <th>4</th>\n",
       "      <td>5</td>\n",
       "      <td>33396</td>\n",
       "      <td>33501</td>\n",
       "      <td>วิศวะคอม/วิศวกรรมคอมพิวเตอร์ มีทั้งหมดกี่หลักส...</td>\n",
       "      <td>วิศวกรรมคอมพิวเตอร์มีทั้งหมดกี่หลักสูตร?</td>\n",
       "      <td>1</td>\n",
       "    </tr>\n",
       "    <tr>\n",
       "      <th>...</th>\n",
       "      <td>...</td>\n",
       "      <td>...</td>\n",
       "      <td>...</td>\n",
       "      <td>...</td>\n",
       "      <td>...</td>\n",
       "      <td>...</td>\n",
       "    </tr>\n",
       "    <tr>\n",
       "      <th>82</th>\n",
       "      <td>83</td>\n",
       "      <td>33441</td>\n",
       "      <td>33261</td>\n",
       "      <td>วิศวะคอม/วิศวกรรมคอมพิวเตอร์หลักสูตรนานาชาติ ป...</td>\n",
       "      <td>วิศวคอมพิวพิวเตอร์หลักสูตรปกติ ปีที่1-2 เรียนอ...</td>\n",
       "      <td>0</td>\n",
       "    </tr>\n",
       "    <tr>\n",
       "      <th>83</th>\n",
       "      <td>84</td>\n",
       "      <td>33443</td>\n",
       "      <td>33251</td>\n",
       "      <td>วิศวะคอม/วิศวกรรมคอมพิวเตอร์หลักสูตรนานาชาติปี...</td>\n",
       "      <td>วิศวคอมพิวพิวเตอร์หลักสูตรปกติ ปีที่ 3 เรียนอะ...</td>\n",
       "      <td>0</td>\n",
       "    </tr>\n",
       "    <tr>\n",
       "      <th>84</th>\n",
       "      <td>85</td>\n",
       "      <td>33445</td>\n",
       "      <td>33241</td>\n",
       "      <td>วิศวะคอม/วิศวกรรมคอมพิวเตอร์หลักสูตรนานาชาติ ป...</td>\n",
       "      <td>วิศวคอมพิวพิวเตอร์หลักสูตรปกติ ปีที่ 4 เรียนอะ...</td>\n",
       "      <td>0</td>\n",
       "    </tr>\n",
       "    <tr>\n",
       "      <th>85</th>\n",
       "      <td>86</td>\n",
       "      <td>33447</td>\n",
       "      <td>33231</td>\n",
       "      <td>วิศวะคอม/วิศวกรรมคอมพิวเตอร์หลักสูตรนานาชาติ ป...</td>\n",
       "      <td>วิศวคอมพิวพิวเตอร์หลักสูตรนานาชาติ ปีที่1-2 เร...</td>\n",
       "      <td>0</td>\n",
       "    </tr>\n",
       "    <tr>\n",
       "      <th>86</th>\n",
       "      <td>87</td>\n",
       "      <td>33449</td>\n",
       "      <td>33221</td>\n",
       "      <td>วิศวะคอม/วิศวกรรมคอมพิวเตอร์หลักสูตรนานาชาติปี...</td>\n",
       "      <td>วิศวคอมพิวพิวเตอร์หลักสูตรนานาชาติ ปีที่ 3 เรี...</td>\n",
       "      <td>0</td>\n",
       "    </tr>\n",
       "  </tbody>\n",
       "</table>\n",
       "<p>87 rows × 6 columns</p>\n",
       "</div>"
      ],
      "text/plain": [
       "    id   qid1   qid2                                          question1  \\\n",
       "0    1  33396  33493  วิศวะคอม/วิศวกรรมคอมพิวเตอร์ มีทั้งหมดกี่หลักส...   \n",
       "1    2  33396  33495  วิศวะคอม/วิศวกรรมคอมพิวเตอร์ มีทั้งหมดกี่หลักส...   \n",
       "2    3  33396  33497  วิศวะคอม/วิศวกรรมคอมพิวเตอร์ มีทั้งหมดกี่หลักส...   \n",
       "3    4  33396  33499  วิศวะคอม/วิศวกรรมคอมพิวเตอร์ มีทั้งหมดกี่หลักส...   \n",
       "4    5  33396  33501  วิศวะคอม/วิศวกรรมคอมพิวเตอร์ มีทั้งหมดกี่หลักส...   \n",
       "..  ..    ...    ...                                                ...   \n",
       "82  83  33441  33261  วิศวะคอม/วิศวกรรมคอมพิวเตอร์หลักสูตรนานาชาติ ป...   \n",
       "83  84  33443  33251  วิศวะคอม/วิศวกรรมคอมพิวเตอร์หลักสูตรนานาชาติปี...   \n",
       "84  85  33445  33241  วิศวะคอม/วิศวกรรมคอมพิวเตอร์หลักสูตรนานาชาติ ป...   \n",
       "85  86  33447  33231  วิศวะคอม/วิศวกรรมคอมพิวเตอร์หลักสูตรนานาชาติ ป...   \n",
       "86  87  33449  33221  วิศวะคอม/วิศวกรรมคอมพิวเตอร์หลักสูตรนานาชาติปี...   \n",
       "\n",
       "                                            question2  is_duplicate  \n",
       "0       วิศวคอมหลักสูตรปกติมีระยะเวลาในการศึกษากี่ปี?             0  \n",
       "1   วิศวะคอมมีทั้งหมดกี่หลักสูตร? มีหลักสูตรอะไรบ้าง?             1  \n",
       "2   วิศวกรรมคอมพิวเตอร์มีทั้งหมดกี่หลักสูตร? มีหลั...             1  \n",
       "3                       วิศวะคอมมีทั้งหมดกี่หลักสูตร?             1  \n",
       "4            วิศวกรรมคอมพิวเตอร์มีทั้งหมดกี่หลักสูตร?             1  \n",
       "..                                                ...           ...  \n",
       "82  วิศวคอมพิวพิวเตอร์หลักสูตรปกติ ปีที่1-2 เรียนอ...             0  \n",
       "83  วิศวคอมพิวพิวเตอร์หลักสูตรปกติ ปีที่ 3 เรียนอะ...             0  \n",
       "84  วิศวคอมพิวพิวเตอร์หลักสูตรปกติ ปีที่ 4 เรียนอะ...             0  \n",
       "85  วิศวคอมพิวพิวเตอร์หลักสูตรนานาชาติ ปีที่1-2 เร...             0  \n",
       "86  วิศวคอมพิวพิวเตอร์หลักสูตรนานาชาติ ปีที่ 3 เรี...             0  \n",
       "\n",
       "[87 rows x 6 columns]"
      ]
     },
     "execution_count": 21,
     "metadata": {},
     "output_type": "execute_result"
    }
   ],
   "source": [
    "faq_db = pd.read_excel('CPE_FAQ_test.xlsx')\n",
    "faq_db"
   ]
  },
  {
   "cell_type": "code",
   "execution_count": 22,
   "metadata": {
    "colab": {
     "base_uri": "https://localhost:8080/"
    },
    "executionInfo": {
     "elapsed": 978,
     "status": "ok",
     "timestamp": 1620718303142,
     "user": {
      "displayName": "Natkanok Poksappaiboon",
      "photoUrl": "",
      "userId": "02284855325556491333"
     },
     "user_tz": -420
    },
    "id": "9Tza5MKJVpoc",
    "outputId": "f8e79bcc-8ddf-4deb-8b82-bf3343a4950a"
   },
   "outputs": [
    {
     "data": {
      "text/plain": [
       "0     วิศวะคอม/วิศวกรรมคอมพิวเตอร์ มีทั้งหมดกี่หลักส...\n",
       "1     วิศวะคอม/วิศวกรรมคอมพิวเตอร์ มีทั้งหมดกี่หลักส...\n",
       "2     วิศวะคอม/วิศวกรรมคอมพิวเตอร์ มีทั้งหมดกี่หลักส...\n",
       "3     วิศวะคอม/วิศวกรรมคอมพิวเตอร์ มีทั้งหมดกี่หลักส...\n",
       "4     วิศวะคอม/วิศวกรรมคอมพิวเตอร์ มีทั้งหมดกี่หลักส...\n",
       "                            ...                        \n",
       "82    วิศวะคอม/วิศวกรรมคอมพิวเตอร์หลักสูตรนานาชาติ ป...\n",
       "83    วิศวะคอม/วิศวกรรมคอมพิวเตอร์หลักสูตรนานาชาติปี...\n",
       "84    วิศวะคอม/วิศวกรรมคอมพิวเตอร์หลักสูตรนานาชาติ ป...\n",
       "85    วิศวะคอม/วิศวกรรมคอมพิวเตอร์หลักสูตรนานาชาติ ป...\n",
       "86    วิศวะคอม/วิศวกรรมคอมพิวเตอร์หลักสูตรนานาชาติปี...\n",
       "Name: question1, Length: 87, dtype: object"
      ]
     },
     "execution_count": 22,
     "metadata": {},
     "output_type": "execute_result"
    }
   ],
   "source": [
    "faq_db['question1']"
   ]
  },
  {
   "cell_type": "code",
   "execution_count": 23,
   "metadata": {
    "id": "pL8GEUFCWEKq"
   },
   "outputs": [],
   "source": [
    "from itertools import chain\n",
    "def tokenize_text_list(ls):\n",
    "    \"\"\"Tokenize list of text\"\"\"\n",
    "    return list(chain.from_iterable([deepcut.tokenize(ls)]))"
   ]
  },
  {
   "cell_type": "code",
   "execution_count": 24,
   "metadata": {
    "id": "BsY51Xn9WTBS"
   },
   "outputs": [],
   "source": [
    "tokenized_category =faq_db.question1.map(tokenize_text_list)"
   ]
  },
  {
   "cell_type": "code",
   "execution_count": 25,
   "metadata": {
    "colab": {
     "base_uri": "https://localhost:8080/"
    },
    "executionInfo": {
     "elapsed": 884,
     "status": "ok",
     "timestamp": 1620720018687,
     "user": {
      "displayName": "Natkanok Poksappaiboon",
      "photoUrl": "",
      "userId": "02284855325556491333"
     },
     "user_tz": -420
    },
    "id": "TGyqvGBFa3uy",
    "outputId": "11079bf0-58ed-4b8c-a2af-e75d3a2d86c9"
   },
   "outputs": [
    {
     "data": {
      "text/plain": [
       "0     [วิศวะ, คอม, /, วิศวกรรม, คอมพิวเตอร์,  , มี, ...\n",
       "1     [วิศวะ, คอม, /, วิศวกรรม, คอมพิวเตอร์,  , มี, ...\n",
       "2     [วิศวะ, คอม, /, วิศวกรรม, คอมพิวเตอร์,  , มี, ...\n",
       "3     [วิศวะ, คอม, /, วิศวกรรม, คอมพิวเตอร์,  , มี, ...\n",
       "4     [วิศวะ, คอม, /, วิศวกรรม, คอมพิวเตอร์,  , มี, ...\n",
       "                            ...                        \n",
       "82    [วิศวะ, คอม, /, วิศวกรรม, คอมพิวเตอร์, หลักสูต...\n",
       "83    [วิศวะ, คอม, /, วิศวกรรม, คอมพิวเตอร์, หลักสูต...\n",
       "84    [วิศวะ, คอม, /, วิศวกรรม, คอมพิวเตอร์, หลักสูต...\n",
       "85    [วิศวะ, คอม, /, วิศวกรรม, คอมพิวเตอร์, หลักสูต...\n",
       "86    [วิศวะ, คอม, /, วิศวกรรม, คอมพิวเตอร์, หลักสูต...\n",
       "Name: question1, Length: 87, dtype: object"
      ]
     },
     "execution_count": 25,
     "metadata": {},
     "output_type": "execute_result"
    }
   ],
   "source": [
    "tokenized_category"
   ]
  },
  {
   "cell_type": "code",
   "execution_count": 26,
   "metadata": {
    "id": "CGdqwM2qWt0r"
   },
   "outputs": [],
   "source": [
    "max_word = 19219\n",
    "max_seq_length = 2704"
   ]
  },
  {
   "cell_type": "code",
   "execution_count": 27,
   "metadata": {
    "id": "1XpFqeXNWuux"
   },
   "outputs": [],
   "source": [
    "q_category= []\n",
    "for sentence in tokenized_category:\n",
    "    q_category.append(sentence)"
   ]
  },
  {
   "cell_type": "code",
   "execution_count": 28,
   "metadata": {
    "colab": {
     "base_uri": "https://localhost:8080/"
    },
    "executionInfo": {
     "elapsed": 1780,
     "status": "ok",
     "timestamp": 1620718746721,
     "user": {
      "displayName": "Natkanok Poksappaiboon",
      "photoUrl": "",
      "userId": "02284855325556491333"
     },
     "user_tz": -420
    },
    "id": "UAWaItX5VMgx",
    "outputId": "b98d6b35-47da-474b-c57f-761560da32ab"
   },
   "outputs": [
    {
     "name": "stderr",
     "output_type": "stream",
     "text": [
      "<ipython-input-6-e36182fd4f37>:8: DeprecationWarning: Call to deprecated `__contains__` (Method will be removed in 4.0.0, use self.wv.__contains__() instead).\n",
      "  if w not in wv_model:\n",
      "<ipython-input-6-e36182fd4f37>:18: VisibleDeprecationWarning: Creating an ndarray from ragged nested sequences (which is a list-or-tuple of lists-or-tuples-or ndarrays with different lengths or shapes) is deprecated. If you meant to do this, you must specify 'dtype=object' when creating the ndarray\n",
      "  return np.array(dataset)\n"
     ]
    }
   ],
   "source": [
    "import difflib\n",
    "q_category = word_index(q_category)"
   ]
  },
  {
   "cell_type": "code",
   "execution_count": 29,
   "metadata": {
    "colab": {
     "base_uri": "https://localhost:8080/"
    },
    "executionInfo": {
     "elapsed": 1017,
     "status": "ok",
     "timestamp": 1620718757518,
     "user": {
      "displayName": "Natkanok Poksappaiboon",
      "photoUrl": "",
      "userId": "02284855325556491333"
     },
     "user_tz": -420
    },
    "id": "pJEY57f_XXUv",
    "outputId": "a43e89d2-1c96-468e-d55e-a4d686a8e198"
   },
   "outputs": [
    {
     "data": {
      "text/plain": [
       "(87,)"
      ]
     },
     "execution_count": 29,
     "metadata": {},
     "output_type": "execute_result"
    }
   ],
   "source": [
    "q_category.shape"
   ]
  },
  {
   "cell_type": "code",
   "execution_count": 30,
   "metadata": {
    "colab": {
     "base_uri": "https://localhost:8080/"
    },
    "executionInfo": {
     "elapsed": 983,
     "status": "ok",
     "timestamp": 1620719336702,
     "user": {
      "displayName": "Natkanok Poksappaiboon",
      "photoUrl": "",
      "userId": "02284855325556491333"
     },
     "user_tz": -420
    },
    "id": "tuC_yktbZW3r",
    "outputId": "1fc8fba7-ff9c-422d-cf7b-c9bb68e8efb5"
   },
   "outputs": [
    {
     "data": {
      "text/plain": [
       "87"
      ]
     },
     "execution_count": 30,
     "metadata": {},
     "output_type": "execute_result"
    }
   ],
   "source": [
    "all_Question_categorylen = len(q_category)\n",
    "all_Question_categorylen"
   ]
  },
  {
   "cell_type": "markdown",
   "metadata": {
    "id": "9GHSbyPrYTtR"
   },
   "source": [
    "#Question from User"
   ]
  },
  {
   "cell_type": "code",
   "execution_count": 31,
   "metadata": {
    "id": "9hiwFzS5YSwC"
   },
   "outputs": [],
   "source": [
    "input2 = 'วิศวคอมมีหลักสุตรอะไรบ้าง'"
   ]
  },
  {
   "cell_type": "code",
   "execution_count": 32,
   "metadata": {
    "id": "6brFZaZWYjiM"
   },
   "outputs": [],
   "source": [
    "cleansing(input2)\n",
    "tokenized_input_2 =deepcut.tokenize(input2)"
   ]
  },
  {
   "cell_type": "code",
   "execution_count": 33,
   "metadata": {
    "colab": {
     "base_uri": "https://localhost:8080/"
    },
    "executionInfo": {
     "elapsed": 1096,
     "status": "ok",
     "timestamp": 1620719115680,
     "user": {
      "displayName": "Natkanok Poksappaiboon",
      "photoUrl": "",
      "userId": "02284855325556491333"
     },
     "user_tz": -420
    },
    "id": "_dZWvCRvYwhx",
    "outputId": "8a5998ad-d830-4e6b-bba0-29458dc54171"
   },
   "outputs": [
    {
     "data": {
      "text/plain": [
       "['วิศว', 'คอม', 'มี', 'หลักสุตร', 'อะไร', 'บ้าง']"
      ]
     },
     "execution_count": 33,
     "metadata": {},
     "output_type": "execute_result"
    }
   ],
   "source": [
    "tokenized_input_2"
   ]
  },
  {
   "cell_type": "code",
   "execution_count": 34,
   "metadata": {
    "id": "w_EAiigkZ51b"
   },
   "outputs": [],
   "source": [
    "#Duplicate list\n",
    "def duplicate(testList, n):\n",
    "    return [ele for ele in testList for _ in range(n)]"
   ]
  },
  {
   "cell_type": "code",
   "execution_count": 35,
   "metadata": {
    "colab": {
     "base_uri": "https://localhost:8080/"
    },
    "executionInfo": {
     "elapsed": 945,
     "status": "ok",
     "timestamp": 1620719906256,
     "user": {
      "displayName": "Natkanok Poksappaiboon",
      "photoUrl": "",
      "userId": "02284855325556491333"
     },
     "user_tz": -420
    },
    "id": "mWT7jP6eaWrq",
    "outputId": "2228f3a8-cf2b-41a5-cc34-7e074a6b24de"
   },
   "outputs": [
    {
     "data": {
      "text/plain": [
       "[['วิศว', 'คอม', 'มี', 'หลักสุตร', 'อะไร', 'บ้าง'],\n",
       " ['วิศว', 'คอม', 'มี', 'หลักสุตร', 'อะไร', 'บ้าง'],\n",
       " ['วิศว', 'คอม', 'มี', 'หลักสุตร', 'อะไร', 'บ้าง'],\n",
       " ['วิศว', 'คอม', 'มี', 'หลักสุตร', 'อะไร', 'บ้าง'],\n",
       " ['วิศว', 'คอม', 'มี', 'หลักสุตร', 'อะไร', 'บ้าง'],\n",
       " ['วิศว', 'คอม', 'มี', 'หลักสุตร', 'อะไร', 'บ้าง'],\n",
       " ['วิศว', 'คอม', 'มี', 'หลักสุตร', 'อะไร', 'บ้าง'],\n",
       " ['วิศว', 'คอม', 'มี', 'หลักสุตร', 'อะไร', 'บ้าง'],\n",
       " ['วิศว', 'คอม', 'มี', 'หลักสุตร', 'อะไร', 'บ้าง'],\n",
       " ['วิศว', 'คอม', 'มี', 'หลักสุตร', 'อะไร', 'บ้าง'],\n",
       " ['วิศว', 'คอม', 'มี', 'หลักสุตร', 'อะไร', 'บ้าง'],\n",
       " ['วิศว', 'คอม', 'มี', 'หลักสุตร', 'อะไร', 'บ้าง'],\n",
       " ['วิศว', 'คอม', 'มี', 'หลักสุตร', 'อะไร', 'บ้าง'],\n",
       " ['วิศว', 'คอม', 'มี', 'หลักสุตร', 'อะไร', 'บ้าง'],\n",
       " ['วิศว', 'คอม', 'มี', 'หลักสุตร', 'อะไร', 'บ้าง'],\n",
       " ['วิศว', 'คอม', 'มี', 'หลักสุตร', 'อะไร', 'บ้าง'],\n",
       " ['วิศว', 'คอม', 'มี', 'หลักสุตร', 'อะไร', 'บ้าง'],\n",
       " ['วิศว', 'คอม', 'มี', 'หลักสุตร', 'อะไร', 'บ้าง'],\n",
       " ['วิศว', 'คอม', 'มี', 'หลักสุตร', 'อะไร', 'บ้าง'],\n",
       " ['วิศว', 'คอม', 'มี', 'หลักสุตร', 'อะไร', 'บ้าง'],\n",
       " ['วิศว', 'คอม', 'มี', 'หลักสุตร', 'อะไร', 'บ้าง'],\n",
       " ['วิศว', 'คอม', 'มี', 'หลักสุตร', 'อะไร', 'บ้าง'],\n",
       " ['วิศว', 'คอม', 'มี', 'หลักสุตร', 'อะไร', 'บ้าง'],\n",
       " ['วิศว', 'คอม', 'มี', 'หลักสุตร', 'อะไร', 'บ้าง'],\n",
       " ['วิศว', 'คอม', 'มี', 'หลักสุตร', 'อะไร', 'บ้าง'],\n",
       " ['วิศว', 'คอม', 'มี', 'หลักสุตร', 'อะไร', 'บ้าง'],\n",
       " ['วิศว', 'คอม', 'มี', 'หลักสุตร', 'อะไร', 'บ้าง'],\n",
       " ['วิศว', 'คอม', 'มี', 'หลักสุตร', 'อะไร', 'บ้าง'],\n",
       " ['วิศว', 'คอม', 'มี', 'หลักสุตร', 'อะไร', 'บ้าง'],\n",
       " ['วิศว', 'คอม', 'มี', 'หลักสุตร', 'อะไร', 'บ้าง'],\n",
       " ['วิศว', 'คอม', 'มี', 'หลักสุตร', 'อะไร', 'บ้าง'],\n",
       " ['วิศว', 'คอม', 'มี', 'หลักสุตร', 'อะไร', 'บ้าง'],\n",
       " ['วิศว', 'คอม', 'มี', 'หลักสุตร', 'อะไร', 'บ้าง'],\n",
       " ['วิศว', 'คอม', 'มี', 'หลักสุตร', 'อะไร', 'บ้าง'],\n",
       " ['วิศว', 'คอม', 'มี', 'หลักสุตร', 'อะไร', 'บ้าง'],\n",
       " ['วิศว', 'คอม', 'มี', 'หลักสุตร', 'อะไร', 'บ้าง'],\n",
       " ['วิศว', 'คอม', 'มี', 'หลักสุตร', 'อะไร', 'บ้าง'],\n",
       " ['วิศว', 'คอม', 'มี', 'หลักสุตร', 'อะไร', 'บ้าง'],\n",
       " ['วิศว', 'คอม', 'มี', 'หลักสุตร', 'อะไร', 'บ้าง'],\n",
       " ['วิศว', 'คอม', 'มี', 'หลักสุตร', 'อะไร', 'บ้าง'],\n",
       " ['วิศว', 'คอม', 'มี', 'หลักสุตร', 'อะไร', 'บ้าง'],\n",
       " ['วิศว', 'คอม', 'มี', 'หลักสุตร', 'อะไร', 'บ้าง'],\n",
       " ['วิศว', 'คอม', 'มี', 'หลักสุตร', 'อะไร', 'บ้าง'],\n",
       " ['วิศว', 'คอม', 'มี', 'หลักสุตร', 'อะไร', 'บ้าง'],\n",
       " ['วิศว', 'คอม', 'มี', 'หลักสุตร', 'อะไร', 'บ้าง'],\n",
       " ['วิศว', 'คอม', 'มี', 'หลักสุตร', 'อะไร', 'บ้าง'],\n",
       " ['วิศว', 'คอม', 'มี', 'หลักสุตร', 'อะไร', 'บ้าง'],\n",
       " ['วิศว', 'คอม', 'มี', 'หลักสุตร', 'อะไร', 'บ้าง'],\n",
       " ['วิศว', 'คอม', 'มี', 'หลักสุตร', 'อะไร', 'บ้าง'],\n",
       " ['วิศว', 'คอม', 'มี', 'หลักสุตร', 'อะไร', 'บ้าง'],\n",
       " ['วิศว', 'คอม', 'มี', 'หลักสุตร', 'อะไร', 'บ้าง'],\n",
       " ['วิศว', 'คอม', 'มี', 'หลักสุตร', 'อะไร', 'บ้าง'],\n",
       " ['วิศว', 'คอม', 'มี', 'หลักสุตร', 'อะไร', 'บ้าง'],\n",
       " ['วิศว', 'คอม', 'มี', 'หลักสุตร', 'อะไร', 'บ้าง'],\n",
       " ['วิศว', 'คอม', 'มี', 'หลักสุตร', 'อะไร', 'บ้าง'],\n",
       " ['วิศว', 'คอม', 'มี', 'หลักสุตร', 'อะไร', 'บ้าง'],\n",
       " ['วิศว', 'คอม', 'มี', 'หลักสุตร', 'อะไร', 'บ้าง'],\n",
       " ['วิศว', 'คอม', 'มี', 'หลักสุตร', 'อะไร', 'บ้าง'],\n",
       " ['วิศว', 'คอม', 'มี', 'หลักสุตร', 'อะไร', 'บ้าง'],\n",
       " ['วิศว', 'คอม', 'มี', 'หลักสุตร', 'อะไร', 'บ้าง'],\n",
       " ['วิศว', 'คอม', 'มี', 'หลักสุตร', 'อะไร', 'บ้าง'],\n",
       " ['วิศว', 'คอม', 'มี', 'หลักสุตร', 'อะไร', 'บ้าง'],\n",
       " ['วิศว', 'คอม', 'มี', 'หลักสุตร', 'อะไร', 'บ้าง'],\n",
       " ['วิศว', 'คอม', 'มี', 'หลักสุตร', 'อะไร', 'บ้าง'],\n",
       " ['วิศว', 'คอม', 'มี', 'หลักสุตร', 'อะไร', 'บ้าง'],\n",
       " ['วิศว', 'คอม', 'มี', 'หลักสุตร', 'อะไร', 'บ้าง'],\n",
       " ['วิศว', 'คอม', 'มี', 'หลักสุตร', 'อะไร', 'บ้าง'],\n",
       " ['วิศว', 'คอม', 'มี', 'หลักสุตร', 'อะไร', 'บ้าง'],\n",
       " ['วิศว', 'คอม', 'มี', 'หลักสุตร', 'อะไร', 'บ้าง'],\n",
       " ['วิศว', 'คอม', 'มี', 'หลักสุตร', 'อะไร', 'บ้าง'],\n",
       " ['วิศว', 'คอม', 'มี', 'หลักสุตร', 'อะไร', 'บ้าง'],\n",
       " ['วิศว', 'คอม', 'มี', 'หลักสุตร', 'อะไร', 'บ้าง'],\n",
       " ['วิศว', 'คอม', 'มี', 'หลักสุตร', 'อะไร', 'บ้าง'],\n",
       " ['วิศว', 'คอม', 'มี', 'หลักสุตร', 'อะไร', 'บ้าง'],\n",
       " ['วิศว', 'คอม', 'มี', 'หลักสุตร', 'อะไร', 'บ้าง'],\n",
       " ['วิศว', 'คอม', 'มี', 'หลักสุตร', 'อะไร', 'บ้าง'],\n",
       " ['วิศว', 'คอม', 'มี', 'หลักสุตร', 'อะไร', 'บ้าง'],\n",
       " ['วิศว', 'คอม', 'มี', 'หลักสุตร', 'อะไร', 'บ้าง'],\n",
       " ['วิศว', 'คอม', 'มี', 'หลักสุตร', 'อะไร', 'บ้าง'],\n",
       " ['วิศว', 'คอม', 'มี', 'หลักสุตร', 'อะไร', 'บ้าง'],\n",
       " ['วิศว', 'คอม', 'มี', 'หลักสุตร', 'อะไร', 'บ้าง'],\n",
       " ['วิศว', 'คอม', 'มี', 'หลักสุตร', 'อะไร', 'บ้าง'],\n",
       " ['วิศว', 'คอม', 'มี', 'หลักสุตร', 'อะไร', 'บ้าง'],\n",
       " ['วิศว', 'คอม', 'มี', 'หลักสุตร', 'อะไร', 'บ้าง'],\n",
       " ['วิศว', 'คอม', 'มี', 'หลักสุตร', 'อะไร', 'บ้าง'],\n",
       " ['วิศว', 'คอม', 'มี', 'หลักสุตร', 'อะไร', 'บ้าง'],\n",
       " ['วิศว', 'คอม', 'มี', 'หลักสุตร', 'อะไร', 'บ้าง']]"
      ]
     },
     "execution_count": 35,
     "metadata": {},
     "output_type": "execute_result"
    }
   ],
   "source": [
    "tokenized_dup_input_2= duplicate([tokenized_input_2],all_Question_categorylen)\n",
    "tokenized_dup_input_2"
   ]
  },
  {
   "cell_type": "code",
   "execution_count": 36,
   "metadata": {
    "colab": {
     "base_uri": "https://localhost:8080/"
    },
    "executionInfo": {
     "elapsed": 781,
     "status": "ok",
     "timestamp": 1620720299412,
     "user": {
      "displayName": "Natkanok Poksappaiboon",
      "photoUrl": "",
      "userId": "02284855325556491333"
     },
     "user_tz": -420
    },
    "id": "KWz3M_DaYQAh",
    "outputId": "a1c2da27-e31e-4507-9eb3-87ca3160217c"
   },
   "outputs": [
    {
     "name": "stderr",
     "output_type": "stream",
     "text": [
      "<ipython-input-6-e36182fd4f37>:8: DeprecationWarning: Call to deprecated `__contains__` (Method will be removed in 4.0.0, use self.wv.__contains__() instead).\n",
      "  if w not in wv_model:\n"
     ]
    }
   ],
   "source": [
    "q_user = word_index(tokenized_dup_input_2)"
   ]
  },
  {
   "cell_type": "code",
   "execution_count": 37,
   "metadata": {
    "id": "IJsfJNSmdO4P"
   },
   "outputs": [],
   "source": [
    "# Split to dicts\n",
    "M_input = {'left': q_category, 'right': q_user}"
   ]
  },
  {
   "cell_type": "code",
   "execution_count": 38,
   "metadata": {
    "id": "0zcdoqaUd_Zm"
   },
   "outputs": [],
   "source": [
    "# Zero padding\n",
    "for model_input, side in itertools.product([M_input], ['left', 'right']):\n",
    "    model_input[side] = pad_sequences(model_input[side], maxlen=max_seq_length)\n",
    "\n",
    "# Make sure everything is ok\n",
    "assert M_input['left'].shape == M_input['right'].shape"
   ]
  },
  {
   "cell_type": "code",
   "execution_count": 39,
   "metadata": {
    "colab": {
     "base_uri": "https://localhost:8080/"
    },
    "executionInfo": {
     "elapsed": 1198,
     "status": "ok",
     "timestamp": 1620720594650,
     "user": {
      "displayName": "Natkanok Poksappaiboon",
      "photoUrl": "",
      "userId": "02284855325556491333"
     },
     "user_tz": -420
    },
    "id": "-2kIlPU4eTjg",
    "outputId": "992c9150-1e4d-453d-b1ee-87759eb03098"
   },
   "outputs": [
    {
     "data": {
      "text/plain": [
       "array([[  0,   0,   0, ..., 237,   9,  10],\n",
       "       [  0,   0,   0, ..., 237,  29,  38],\n",
       "       [  0,   0,   0, ..., 237,  29,  38],\n",
       "       ...,\n",
       "       [  0,   0,   0, ...,  98,  29,  38],\n",
       "       [  0,   0,   0, ...,  98,  29,  38],\n",
       "       [  0,   0,   0, ...,  98,  29,  38]])"
      ]
     },
     "execution_count": 39,
     "metadata": {},
     "output_type": "execute_result"
    }
   ],
   "source": [
    "M_input['left']"
   ]
  },
  {
   "cell_type": "code",
   "execution_count": 40,
   "metadata": {
    "colab": {
     "base_uri": "https://localhost:8080/"
    },
    "executionInfo": {
     "elapsed": 1939,
     "status": "ok",
     "timestamp": 1620720603397,
     "user": {
      "displayName": "Natkanok Poksappaiboon",
      "photoUrl": "",
      "userId": "02284855325556491333"
     },
     "user_tz": -420
    },
    "id": "qHPtQdj1ean_",
    "outputId": "36431f21-2018-41a8-bae9-ebcf1a706c01"
   },
   "outputs": [
    {
     "data": {
      "text/plain": [
       "array([[    0,     0,     0, ...,     4,     5,     6],\n",
       "       [    0,     0,     0, ..., 22343,    29,    38],\n",
       "       [    0,     0,     0, ..., 22343,    29,    38],\n",
       "       ...,\n",
       "       [    0,     0,     0, ..., 22343,    29,    38],\n",
       "       [    0,     0,     0, ..., 22343,    29,    38],\n",
       "       [    0,     0,     0, ..., 22343,    29,    38]])"
      ]
     },
     "execution_count": 40,
     "metadata": {},
     "output_type": "execute_result"
    }
   ],
   "source": [
    " M_input['right']"
   ]
  },
  {
   "cell_type": "code",
   "execution_count": 41,
   "metadata": {
    "id": "QQjSaocQeck_"
   },
   "outputs": [],
   "source": [
    "play_predict = malstm.predict(x=[M_input['left'],  M_input['right']])"
   ]
  },
  {
   "cell_type": "code",
   "execution_count": 42,
   "metadata": {},
   "outputs": [
    {
     "data": {
      "text/plain": [
       "array([[5.1643596e-22],\n",
       "       [9.7786230e-01],\n",
       "       [9.7786230e-01],\n",
       "       [9.7786230e-01],\n",
       "       [9.7786230e-01],\n",
       "       [9.7786230e-01],\n",
       "       [9.7786230e-01],\n",
       "       [9.7786230e-01],\n",
       "       [9.7786230e-01],\n",
       "       [9.7786230e-01],\n",
       "       [9.7786230e-01],\n",
       "       [9.7786230e-01],\n",
       "       [9.7786230e-01],\n",
       "       [9.7786230e-01],\n",
       "       [9.7786230e-01],\n",
       "       [9.7786230e-01],\n",
       "       [9.7786230e-01],\n",
       "       [9.7786230e-01],\n",
       "       [9.7786230e-01],\n",
       "       [9.7786230e-01],\n",
       "       [9.7786230e-01],\n",
       "       [9.7786230e-01],\n",
       "       [9.7786230e-01],\n",
       "       [9.7786230e-01],\n",
       "       [9.7786230e-01],\n",
       "       [9.7786230e-01],\n",
       "       [9.7786230e-01],\n",
       "       [9.7786230e-01],\n",
       "       [9.7786230e-01],\n",
       "       [9.7786230e-01],\n",
       "       [9.7786236e-01],\n",
       "       [9.7786236e-01],\n",
       "       [9.7786230e-01],\n",
       "       [9.7786230e-01],\n",
       "       [9.7786230e-01],\n",
       "       [9.7786230e-01],\n",
       "       [9.7786230e-01],\n",
       "       [9.7786230e-01],\n",
       "       [9.7786230e-01],\n",
       "       [9.2381722e-01],\n",
       "       [9.0207475e-01],\n",
       "       [9.0207475e-01],\n",
       "       [9.0207475e-01],\n",
       "       [9.0207475e-01],\n",
       "       [9.0207475e-01],\n",
       "       [9.0207475e-01],\n",
       "       [9.0207475e-01],\n",
       "       [9.0207475e-01],\n",
       "       [9.0207475e-01],\n",
       "       [9.0207475e-01],\n",
       "       [9.0207475e-01],\n",
       "       [9.0207475e-01],\n",
       "       [9.0207475e-01],\n",
       "       [9.0207475e-01],\n",
       "       [8.2670861e-01],\n",
       "       [8.3412671e-01],\n",
       "       [9.0207475e-01],\n",
       "       [9.0207475e-01],\n",
       "       [9.0207475e-01],\n",
       "       [9.0207475e-01],\n",
       "       [9.0207475e-01],\n",
       "       [8.8529098e-01],\n",
       "       [8.9632547e-01],\n",
       "       [8.9632547e-01],\n",
       "       [9.0207475e-01],\n",
       "       [8.9632583e-01],\n",
       "       [8.9632583e-01],\n",
       "       [9.0207475e-01],\n",
       "       [8.8788636e-02],\n",
       "       [8.9632583e-01],\n",
       "       [9.0207475e-01],\n",
       "       [9.0207475e-01],\n",
       "       [8.9632583e-01],\n",
       "       [8.9632583e-01],\n",
       "       [9.0151739e-01],\n",
       "       [8.9632583e-01],\n",
       "       [9.0181965e-01],\n",
       "       [8.9632583e-01],\n",
       "       [9.0151739e-01],\n",
       "       [9.0240413e-01],\n",
       "       [9.0151739e-01],\n",
       "       [9.0151739e-01],\n",
       "       [8.9632583e-01],\n",
       "       [9.0207475e-01],\n",
       "       [8.9632583e-01],\n",
       "       [8.9632583e-01],\n",
       "       [9.0207475e-01]], dtype=float32)"
      ]
     },
     "execution_count": 42,
     "metadata": {},
     "output_type": "execute_result"
    }
   ],
   "source": [
    "play_predict"
   ]
  },
  {
   "cell_type": "code",
   "execution_count": 57,
   "metadata": {
    "colab": {
     "base_uri": "https://localhost:8080/"
    },
    "executionInfo": {
     "elapsed": 489,
     "status": "ok",
     "timestamp": 1620722026599,
     "user": {
      "displayName": "Natkanok Poksappaiboon",
      "photoUrl": "",
      "userId": "02284855325556491333"
     },
     "user_tz": -420
    },
    "id": "gaqpRkFOeupG",
    "outputId": "34972c30-3eee-4f3f-c10a-403cc6d72148",
    "scrolled": true
   },
   "outputs": [
    {
     "data": {
      "text/plain": [
       "array([0.97786236], dtype=float32)"
      ]
     },
     "execution_count": 57,
     "metadata": {},
     "output_type": "execute_result"
    }
   ],
   "source": [
    "max(play_predict)"
   ]
  },
  {
   "cell_type": "code",
   "execution_count": 58,
   "metadata": {},
   "outputs": [],
   "source": [
    "max_question_percentage = max(play_predict)"
   ]
  },
  {
   "cell_type": "code",
   "execution_count": 60,
   "metadata": {},
   "outputs": [
    {
     "name": "stdout",
     "output_type": "stream",
     "text": [
      "0.97786236\n"
     ]
    }
   ],
   "source": [
    "print(max_question_percentage[0])"
   ]
  },
  {
   "cell_type": "code",
   "execution_count": 61,
   "metadata": {},
   "outputs": [],
   "source": [
    "question_index = np.where(play_predict == max_question_percentage)"
   ]
  },
  {
   "cell_type": "code",
   "execution_count": 62,
   "metadata": {},
   "outputs": [
    {
     "data": {
      "text/plain": [
       "30"
      ]
     },
     "execution_count": 62,
     "metadata": {},
     "output_type": "execute_result"
    }
   ],
   "source": [
    "question_index[0][0]"
   ]
  },
  {
   "cell_type": "code",
   "execution_count": 47,
   "metadata": {},
   "outputs": [
    {
     "data": {
      "text/plain": [
       "0     วิศวะคอม/วิศวกรรมคอมพิวเตอร์ มีทั้งหมดกี่หลักส...\n",
       "1     วิศวะคอม/วิศวกรรมคอมพิวเตอร์ มีทั้งหมดกี่หลักส...\n",
       "2     วิศวะคอม/วิศวกรรมคอมพิวเตอร์ มีทั้งหมดกี่หลักส...\n",
       "3     วิศวะคอม/วิศวกรรมคอมพิวเตอร์ มีทั้งหมดกี่หลักส...\n",
       "4     วิศวะคอม/วิศวกรรมคอมพิวเตอร์ มีทั้งหมดกี่หลักส...\n",
       "                            ...                        \n",
       "82    วิศวะคอม/วิศวกรรมคอมพิวเตอร์หลักสูตรนานาชาติ ป...\n",
       "83    วิศวะคอม/วิศวกรรมคอมพิวเตอร์หลักสูตรนานาชาติปี...\n",
       "84    วิศวะคอม/วิศวกรรมคอมพิวเตอร์หลักสูตรนานาชาติ ป...\n",
       "85    วิศวะคอม/วิศวกรรมคอมพิวเตอร์หลักสูตรนานาชาติ ป...\n",
       "86    วิศวะคอม/วิศวกรรมคอมพิวเตอร์หลักสูตรนานาชาติปี...\n",
       "Name: question1, Length: 87, dtype: object"
      ]
     },
     "execution_count": 47,
     "metadata": {},
     "output_type": "execute_result"
    }
   ],
   "source": [
    "faq_db['question1']"
   ]
  },
  {
   "cell_type": "code",
   "execution_count": 48,
   "metadata": {},
   "outputs": [
    {
     "data": {
      "text/plain": [
       "'วิศวะคอม/วิศวกรรมคอมพิวเตอร์หลักสูตรปกติ  ปี 4 เทอม 2\\nต้องลงเรียนกี่หน่วยกิต? เรียนวิชาอะไรบ้าง?'"
      ]
     },
     "execution_count": 48,
     "metadata": {},
     "output_type": "execute_result"
    }
   ],
   "source": [
    "faq_db.loc[30,'question2']"
   ]
  },
  {
   "cell_type": "code",
   "execution_count": 49,
   "metadata": {},
   "outputs": [
    {
     "data": {
      "text/plain": [
       "'วิศวะคอม/วิศวกรรมคอมพิวเตอร์ มีทั้งหมดกี่หลักสูตร? มีหลักสูตรอะไรบ้าง?'"
      ]
     },
     "execution_count": 49,
     "metadata": {},
     "output_type": "execute_result"
    }
   ],
   "source": [
    "faq_db.loc[30,'question1']"
   ]
  },
  {
   "cell_type": "code",
   "execution_count": 71,
   "metadata": {},
   "outputs": [
    {
     "data": {
      "text/plain": [
       "b'{\"predictedQuestion\": \"\\xe0\\xb8\\xa7\\xe0\\xb8\\xb4\\xe0\\xb8\\xa8\\xe0\\xb8\\xa7\\xe0\\xb8\\xb0\\xe0\\xb8\\x84\\xe0\\xb8\\xad\\xe0\\xb8\\xa1/\\xe0\\xb8\\xa7\\xe0\\xb8\\xb4\\xe0\\xb8\\xa8\\xe0\\xb8\\xa7\\xe0\\xb8\\x81\\xe0\\xb8\\xa3\\xe0\\xb8\\xa3\\xe0\\xb8\\xa1\\xe0\\xb8\\x84\\xe0\\xb8\\xad\\xe0\\xb8\\xa1\\xe0\\xb8\\x9e\\xe0\\xb8\\xb4\\xe0\\xb8\\xa7\\xe0\\xb9\\x80\\xe0\\xb8\\x95\\xe0\\xb8\\xad\\xe0\\xb8\\xa3\\xe0\\xb9\\x8c \\xe0\\xb8\\xa1\\xe0\\xb8\\xb5\\xe0\\xb8\\x97\\xe0\\xb8\\xb1\\xe0\\xb9\\x89\\xe0\\xb8\\x87\\xe0\\xb8\\xab\\xe0\\xb8\\xa1\\xe0\\xb8\\x94\\xe0\\xb8\\x81\\xe0\\xb8\\xb5\\xe0\\xb9\\x88\\xe0\\xb8\\xab\\xe0\\xb8\\xa5\\xe0\\xb8\\xb1\\xe0\\xb8\\x81\\xe0\\xb8\\xaa\\xe0\\xb8\\xb9\\xe0\\xb8\\x95\\xe0\\xb8\\xa3? \\xe0\\xb8\\xa1\\xe0\\xb8\\xb5\\xe0\\xb8\\xab\\xe0\\xb8\\xa5\\xe0\\xb8\\xb1\\xe0\\xb8\\x81\\xe0\\xb8\\xaa\\xe0\\xb8\\xb9\\xe0\\xb8\\x95\\xe0\\xb8\\xa3\\xe0\\xb8\\xad\\xe0\\xb8\\xb0\\xe0\\xb9\\x84\\xe0\\xb8\\xa3\\xe0\\xb8\\x9a\\xe0\\xb9\\x89\\xe0\\xb8\\xb2\\xe0\\xb8\\x87?\", \"similarity\": \"0.97786236\"}'"
      ]
     },
     "execution_count": 71,
     "metadata": {},
     "output_type": "execute_result"
    }
   ],
   "source": [
    "value = {\n",
    "          \"predictedQuestion\": faq_db.loc[30,'question1'],\n",
    "          \"similarity\": json.dumps(str(max_question_percentage[0]))\n",
    "        }\n",
    "json.dumps(value, ensure_ascii=False).encode('utf8')"
   ]
  },
  {
   "cell_type": "code",
   "execution_count": 74,
   "metadata": {},
   "outputs": [
    {
     "data": {
      "text/plain": [
       "'\"0.97786236\"'"
      ]
     },
     "execution_count": 74,
     "metadata": {},
     "output_type": "execute_result"
    }
   ],
   "source": [
    "json.dumps(str(max_question_percentage[0]))"
   ]
  },
  {
   "cell_type": "code",
   "execution_count": null,
   "metadata": {},
   "outputs": [],
   "source": []
  }
 ],
 "metadata": {
  "accelerator": "GPU",
  "colab": {
   "collapsed_sections": [],
   "machine_shape": "hm",
   "name": "Siamese_malstm_play.ipynb",
   "provenance": []
  },
  "kernelspec": {
   "display_name": "Python 3",
   "language": "python",
   "name": "python3"
  },
  "language_info": {
   "codemirror_mode": {
    "name": "ipython",
    "version": 3
   },
   "file_extension": ".py",
   "mimetype": "text/x-python",
   "name": "python",
   "nbconvert_exporter": "python",
   "pygments_lexer": "ipython3",
   "version": "3.8.5"
  }
 },
 "nbformat": 4,
 "nbformat_minor": 1
}
