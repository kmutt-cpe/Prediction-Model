{
 "cells": [
  {
   "cell_type": "code",
   "execution_count": null,
   "metadata": {},
   "outputs": [],
   "source": [
    "!ls"
   ]
  },
  {
   "cell_type": "code",
   "execution_count": null,
   "metadata": {
    "colab": {
     "base_uri": "https://localhost:8080/"
    },
    "id": "Jfj3v1JM-Mdj",
    "outputId": "bfcc2f91-f63d-46c2-f72b-a2ecb8d449d4",
    "scrolled": true
   },
   "outputs": [],
   "source": [
    "!pip install deepcut --user"
   ]
  },
  {
   "cell_type": "code",
   "execution_count": null,
   "metadata": {},
   "outputs": [],
   "source": [
    "!pip install flask_ngrok --user"
   ]
  },
  {
   "cell_type": "code",
   "execution_count": 1,
   "metadata": {
    "colab": {
     "base_uri": "https://localhost:8080/"
    },
    "id": "8KARCcZE-P82",
    "outputId": "7601ebbc-6c20-40a0-fa8b-0c465ab5b3c7"
   },
   "outputs": [],
   "source": [
    "import deepcut\n",
    "import pandas as pd\n",
    "import numpy as np\n",
    "from itertools import chain\n",
    "import scipy.sparse as sp\n",
    "from sklearn.feature_extraction.text import TfidfTransformer\n",
    "from sklearn.decomposition import TruncatedSVD\n",
    "from sklearn.model_selection import train_test_split, cross_val_score\n",
    "from sklearn.linear_model import LogisticRegression\n",
    "from sklearn.metrics import confusion_matrix\n",
    "from sklearn.neighbors import KNeighborsClassifier\n",
    "from sklearn import svm\n",
    "from sklearn.linear_model import LogisticRegression\n",
    "import matplotlib.pyplot as plt\n",
    "import joblib\n",
    "import pickle\n",
    "import scipy.sparse as sp"
   ]
  },
  {
   "cell_type": "code",
   "execution_count": 2,
   "metadata": {},
   "outputs": [],
   "source": [
    "from flask_ngrok import run_with_ngrok\n",
    "from flask import Flask, jsonify, request\n",
    "import json"
   ]
  },
  {
   "cell_type": "code",
   "execution_count": 3,
   "metadata": {
    "colab": {
     "base_uri": "https://localhost:8080/",
     "height": 225
    },
    "id": "hgxecqEzERyu",
    "outputId": "ee78afc3-9421-442f-f072-66f04a88cfbd"
   },
   "outputs": [
    {
     "data": {
      "text/html": [
       "<div>\n",
       "<style scoped>\n",
       "    .dataframe tbody tr th:only-of-type {\n",
       "        vertical-align: middle;\n",
       "    }\n",
       "\n",
       "    .dataframe tbody tr th {\n",
       "        vertical-align: top;\n",
       "    }\n",
       "\n",
       "    .dataframe thead th {\n",
       "        text-align: right;\n",
       "    }\n",
       "</style>\n",
       "<table border=\"1\" class=\"dataframe\">\n",
       "  <thead>\n",
       "    <tr style=\"text-align: right;\">\n",
       "      <th></th>\n",
       "      <th>Category</th>\n",
       "    </tr>\n",
       "  </thead>\n",
       "  <tbody>\n",
       "    <tr>\n",
       "      <th>0</th>\n",
       "      <td>หลักสูตร</td>\n",
       "    </tr>\n",
       "    <tr>\n",
       "      <th>1</th>\n",
       "      <td>ฝึกงาน</td>\n",
       "    </tr>\n",
       "    <tr>\n",
       "      <th>2</th>\n",
       "      <td>ลงทะเบียนเรียน</td>\n",
       "    </tr>\n",
       "    <tr>\n",
       "      <th>3</th>\n",
       "      <td>การรับเข้านักศึกษา</td>\n",
       "    </tr>\n",
       "    <tr>\n",
       "      <th>4</th>\n",
       "      <td>ทุนการศึกษา</td>\n",
       "    </tr>\n",
       "    <tr>\n",
       "      <th>5</th>\n",
       "      <td>คำถามทั่วไป</td>\n",
       "    </tr>\n",
       "  </tbody>\n",
       "</table>\n",
       "</div>"
      ],
      "text/plain": [
       "             Category\n",
       "0            หลักสูตร\n",
       "1              ฝึกงาน\n",
       "2      ลงทะเบียนเรียน\n",
       "3  การรับเข้านักศึกษา\n",
       "4         ทุนการศึกษา\n",
       "5         คำถามทั่วไป"
      ]
     },
     "execution_count": 3,
     "metadata": {},
     "output_type": "execute_result"
    }
   ],
   "source": [
    "data = pd.read_excel(\"Category.xlsx\")\n",
    "data"
   ]
  },
  {
   "cell_type": "code",
   "execution_count": 4,
   "metadata": {
    "id": "y70ctFO2-roU"
   },
   "outputs": [],
   "source": [
    "#Load File\n",
    "with open('token_text_category.data', 'rb') as filehandle:\n",
    "    # read the data as binary data stream\n",
    "    tokenized_texts = pickle.load(filehandle)"
   ]
  },
  {
   "cell_type": "code",
   "execution_count": 5,
   "metadata": {
    "colab": {
     "base_uri": "https://localhost:8080/"
    },
    "id": "ZMDp-B7h-6FT",
    "outputId": "ab6e3a1c-dead-4352-9f45-8e37efe7f83c"
   },
   "outputs": [
    {
     "data": {
      "text/plain": [
       "0      [วิศวะ, คอม, /, วิศวกรรม, คอมพิวเตอร์,  , มี, ...\n",
       "1      [วิศวะ, คอม, /, วิศวกรรม, คอมพิวเตอร์, หลักสูต...\n",
       "2      [วิศวะ, คอม, /, วิศวกรรม, คอมพิวเตอร์, หลักสูต...\n",
       "3      [วิศวะ, คอม, /, วิศวกรรม, คอมพิวเตอร์, หลักสูต...\n",
       "4      [วิศวะ, คอม, /, วิศวกรรม, คอมพิวเตอร์, หลักสูต...\n",
       "                             ...                        \n",
       "172     [การ, สมัคร, กู้ยืม, เรียน,  , ทำ, อย่าง, ไร, ?]\n",
       "173             [ทุน, ของ, ภาค, วิชา, มี, อะไร, บ้าง, ？]\n",
       "174       [ทุน, เพชรพระจอมเกล้าภาค, วิชารับ, กี่, คน, ？]\n",
       "175                       [ทุน, จ้าง, งาน, คือ, อะไร, ？]\n",
       "176    [ถ้า, อยาก, ไป, เรียน, ต่อต่าง, และ, ขอ, ทุน, ...\n",
       "Name: CPE_questions, Length: 177, dtype: object"
      ]
     },
     "execution_count": 5,
     "metadata": {},
     "output_type": "execute_result"
    }
   ],
   "source": [
    "tokenized_texts"
   ]
  },
  {
   "cell_type": "code",
   "execution_count": 6,
   "metadata": {
    "id": "fRHJME40-7kk"
   },
   "outputs": [],
   "source": [
    "def text_to_bow(tokenized_text, vocabulary_):\n",
    "    n_doc = len(tokenized_text)\n",
    "    values, row_indices, col_indices = [], [], []\n",
    "    for r, tokens in enumerate(tokenized_text):\n",
    "        feature = {}\n",
    "        for token in tokens:\n",
    "            word_index = vocabulary_.get(token)\n",
    "            if word_index is not None:\n",
    "                if word_index not in feature.keys():\n",
    "                    feature[word_index] = 1\n",
    "                else:\n",
    "                    feature[word_index] += 1\n",
    "        for c, v in feature.items():\n",
    "            values.append(v)\n",
    "            row_indices.append(r)\n",
    "            col_indices.append(c)\n",
    "        #print(feature)\n",
    "\n",
    "    # document-term matrix in sparse CSR format\n",
    "    X = sp.csr_matrix((values, (row_indices, col_indices)),\n",
    "                      shape=(n_doc, len(vocabulary_)))\n",
    "    return X\n",
    "\n",
    "vocabulary_ = {v: k for k, v in enumerate(set(chain.from_iterable(tokenized_texts)))}\n",
    "X = text_to_bow(tokenized_texts, vocabulary_)"
   ]
  },
  {
   "cell_type": "code",
   "execution_count": 7,
   "metadata": {
    "id": "IyPIuB44_Abk"
   },
   "outputs": [],
   "source": [
    "transformer = TfidfTransformer()\n",
    "svd_model = TruncatedSVD(n_components=100,\n",
    "                         algorithm='arpack', n_iter=100)\n",
    "X_tfidf = transformer.fit_transform(X)\n",
    "X_svd = svd_model.fit_transform(X_tfidf)"
   ]
  },
  {
   "cell_type": "code",
   "execution_count": 8,
   "metadata": {
    "id": "BL0WPxWUAXpM"
   },
   "outputs": [],
   "source": [
    "tag = pd.get_dummies(data.Category).columns"
   ]
  },
  {
   "cell_type": "code",
   "execution_count": 9,
   "metadata": {
    "id": "isTw-ieb_Eoj"
   },
   "outputs": [
    {
     "name": "stderr",
     "output_type": "stream",
     "text": [
      "C:\\ProgramData\\Anaconda3\\lib\\site-packages\\sklearn\\base.py:329: UserWarning: Trying to unpickle estimator LogisticRegression from version 0.22.2.post1 when using version 0.23.2. This might lead to breaking code or invalid results. Use at your own risk.\n",
      "  warnings.warn(\n"
     ]
    }
   ],
   "source": [
    "#Lib\n",
    "import joblib\n",
    "\n",
    "#Load Model\n",
    "logist_models = joblib.load(\"category_model.pkl\")"
   ]
  },
  {
   "cell_type": "code",
   "execution_count": 10,
   "metadata": {
    "colab": {
     "base_uri": "https://localhost:8080/"
    },
    "id": "2Cw7J-eC_JI0",
    "outputId": "3af7214e-8d8b-47c7-9797-91e59035d436"
   },
   "outputs": [
    {
     "data": {
      "text/plain": [
       "[LogisticRegression(),\n",
       " LogisticRegression(),\n",
       " LogisticRegression(),\n",
       " LogisticRegression(),\n",
       " LogisticRegression(),\n",
       " LogisticRegression()]"
      ]
     },
     "execution_count": 10,
     "metadata": {},
     "output_type": "execute_result"
    }
   ],
   "source": [
    "logist_models"
   ]
  },
  {
   "cell_type": "code",
   "execution_count": 11,
   "metadata": {
    "colab": {
     "base_uri": "https://localhost:8080/"
    },
    "id": "ZSS5MI1X_MnU",
    "outputId": "11b0e900-5fb1-4228-962c-119a66dd7dea"
   },
   "outputs": [
    {
     "name": "stdout",
     "output_type": "stream",
     "text": [
      "Index(['การรับเข้านักศึกษา', 'คำถามทั่วไป', 'ทุนการศึกษา', 'ฝึกงาน',\n",
      "       'ลงทะเบียนเรียน', 'หลักสูตร'],\n",
      "      dtype='object')\n"
     ]
    }
   ],
   "source": [
    "y_pred = np.argmax(np.vstack([model.predict_proba(X_svd)[:, 1] for model in logist_models]).T, axis=1)\n",
    "y_pred = np.array([tag[yi] for yi in y_pred])\n",
    "y_true = data.Category.values\n",
    "print(tag[0:6])"
   ]
  },
  {
   "cell_type": "markdown",
   "metadata": {},
   "source": [
    "# use for deploy"
   ]
  },
  {
   "cell_type": "code",
   "execution_count": 12,
   "metadata": {
    "scrolled": true
   },
   "outputs": [
    {
     "name": "stdout",
     "output_type": "stream",
     "text": [
      " * Serving Flask app \"__main__\" (lazy loading)\n",
      " * Environment: production\n",
      "   WARNING: This is a development server. Do not use it in a production deployment.\n",
      "   Use a production WSGI server instead.\n",
      " * Debug mode: off\n"
     ]
    },
    {
     "name": "stderr",
     "output_type": "stream",
     "text": [
      " * Running on http://127.0.0.1:5000/ (Press CTRL+C to quit)\n"
     ]
    },
    {
     "name": "stdout",
     "output_type": "stream",
     "text": [
      "วิศวคอมมีหลักสูตรอะไรบ้าง\n"
     ]
    },
    {
     "name": "stderr",
     "output_type": "stream",
     "text": [
      "127.0.0.1 - - [13/May/2021 18:18:39] \"\u001b[37mPOST /category HTTP/1.1\u001b[0m\" 200 -\n"
     ]
    },
    {
     "name": "stdout",
     "output_type": "stream",
     "text": [
      "[('การรับเข้านักศึกษา', 0.13460088729294772), ('คำถามทั่วไป', 0.20348234745059746), ('ทุนการศึกษา', 0.05078302803358382), ('ฝึกงาน', 0.02942253549775357), ('ลงทะเบียนเรียน', 0.0830843008910698), ('หลักสูตร', 0.41979603189236486)]\n",
      "หลักสูตร 0.41979603189236486\n"
     ]
    }
   ],
   "source": [
    "app = Flask(__name__)\n",
    "@app.route('/category', methods=['POST', 'GET'])\n",
    "def home():\n",
    "  if request.method == 'POST':\n",
    "    data = request.get_json()\n",
    "    print(data[\"inputQuestion\"])\n",
    "    text = data[\"inputQuestion\"]\n",
    "    tokenized_text = deepcut.tokenize(text)\n",
    "    x = text_to_bow([tokenized_text], vocabulary_)\n",
    "    x_tfidf = transformer.transform(x)\n",
    "    x_svd = svd_model.transform(x_tfidf)\n",
    "    pred = [model.predict_proba(x_svd.reshape(-1, 1).T).ravel()[1] for model in logist_models]\n",
    "    print(list(zip(tag, pred)))\n",
    "    predict_category = max(list(zip(tag, pred)))\n",
    "    max_value = 0\n",
    "    max_category = ''\n",
    "    pred_results = list(zip(tag, pred))\n",
    "    for pred_result in pred_results:\n",
    "      # print(pred_result)\n",
    "      if pred_result[1] > max_value:\n",
    "        max_value = pred_result[1]\n",
    "        max_category = pred_result[0]\n",
    "    print(max_category, max_value)\n",
    "    value = {\n",
    "      \"category\": max_category,\n",
    "      \"accuracy\": max_value\n",
    "    }\n",
    "    return json.dumps(value, ensure_ascii=False).encode('utf8')\n",
    "  else:\n",
    "    return \"Hello. I am alive!\"\n",
    "\n",
    "app.run(port=5000, debug=False)"
   ]
  },
  {
   "cell_type": "markdown",
   "metadata": {},
   "source": [
    "# example of api (json)"
   ]
  },
  {
   "cell_type": "code",
   "execution_count": null,
   "metadata": {},
   "outputs": [],
   "source": [
    "{\n",
    "\"inputQuestion\":\"วิศวคอมมีหลักสูตรอะไรบ้าง\"\n",
    "}"
   ]
  },
  {
   "cell_type": "code",
   "execution_count": null,
   "metadata": {
    "colab": {
     "base_uri": "https://localhost:8080/"
    },
    "id": "C2IfGmAo_PMk",
    "outputId": "53874966-b5f5-45c8-fa0d-4aae2cf4fb93"
   },
   "outputs": [],
   "source": [
    "# text =  'วิศวคอมพิวเตอร์มีหลักสูตรอะไรบ้าง'\n",
    "# tokenized_text = deepcut.tokenize(text)\n",
    "# x = text_to_bow([tokenized_text], vocabulary_)\n",
    "# x_tfidf = transformer.transform(x)\n",
    "# x_svd = svd_model.transform(x_tfidf)\n",
    "# pred = [model.predict_proba(x_svd.reshape(-1, 1).T).ravel()[1] for model in logist_models]\n",
    "# print(list(zip(tag, pred)))\n",
    "# predict_category = max(list(zip(tag, pred)))"
   ]
  },
  {
   "cell_type": "code",
   "execution_count": null,
   "metadata": {
    "colab": {
     "base_uri": "https://localhost:8080/"
    },
    "id": "FpTp3nT1AkBK",
    "outputId": "7856b724-804a-4562-909c-c8dba23fa1e8"
   },
   "outputs": [],
   "source": [
    "# max_value = 0\n",
    "# max_category = ''\n",
    "# pred_results = list(zip(tag, pred))\n",
    "# for pred_result in pred_results:\n",
    "#   # print(pred_result)\n",
    "#   if pred_result[1] > max_value:\n",
    "#     max_value = pred_result[1]\n",
    "#     max_category = pred_result[0]\n",
    "# print(max_category, max_value)"
   ]
  },
  {
   "cell_type": "markdown",
   "metadata": {},
   "source": [
    "# flask with auto ngrok"
   ]
  },
  {
   "cell_type": "code",
   "execution_count": null,
   "metadata": {},
   "outputs": [],
   "source": [
    "# app = Flask(__name__)\n",
    "# run_with_ngrok(app)   #starts ngrok when the app is run\n",
    "# @app.route('/', methods=['POST', 'GET'])\n",
    "# def home():\n",
    "#   if request.method == 'POST':\n",
    "#     data = request.get_json()\n",
    "#     print(data[\"inputQuestion\"])\n",
    "#     text = data[\"inputQuestion\"]\n",
    "#     tokenized_text = deepcut.tokenize(text)\n",
    "#     x = text_to_bow([tokenized_text], vocabulary_)\n",
    "#     x_tfidf = transformer.transform(x)\n",
    "#     x_svd = svd_model.transform(x_tfidf)\n",
    "#     pred = [model.predict_proba(x_svd.reshape(-1, 1).T).ravel()[1] for model in logist_models]\n",
    "#     print(list(zip(tag, pred)))\n",
    "#     predict_category = max(list(zip(tag, pred)))\n",
    "#     max_value = 0\n",
    "#     max_category = ''\n",
    "#     pred_results = list(zip(tag, pred))\n",
    "#     for pred_result in pred_results:\n",
    "#       # print(pred_result)\n",
    "#       if pred_result[1] > max_value:\n",
    "#         max_value = pred_result[1]\n",
    "#         max_category = pred_result[0]\n",
    "#     print(max_category, max_value)\n",
    "#     value = {\n",
    "#       \"category\": max_category,\n",
    "#       \"accuracy\": max_value\n",
    "#     }\n",
    "#     return json.dumps(value, ensure_ascii=False).encode('utf8')\n",
    "#   else:\n",
    "#     return \"Hello. I am alive!\"\n",
    "\n",
    "# app.run()"
   ]
  },
  {
   "cell_type": "code",
   "execution_count": null,
   "metadata": {},
   "outputs": [],
   "source": []
  }
 ],
 "metadata": {
  "accelerator": "GPU",
  "colab": {
   "collapsed_sections": [],
   "machine_shape": "hm",
   "name": "Play_Model_category.ipynb",
   "provenance": []
  },
  "kernelspec": {
   "display_name": "Python 3",
   "language": "python",
   "name": "python3"
  },
  "language_info": {
   "codemirror_mode": {
    "name": "ipython",
    "version": 3
   },
   "file_extension": ".py",
   "mimetype": "text/x-python",
   "name": "python",
   "nbconvert_exporter": "python",
   "pygments_lexer": "ipython3",
   "version": "3.7.10"
  }
 },
 "nbformat": 4,
 "nbformat_minor": 1
}
