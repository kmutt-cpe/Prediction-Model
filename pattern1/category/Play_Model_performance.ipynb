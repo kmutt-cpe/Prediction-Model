{
 "cells": [
  {
   "cell_type": "code",
   "execution_count": 1,
   "metadata": {
    "colab": {
     "base_uri": "https://localhost:8080/"
    },
    "id": "Jfj3v1JM-Mdj",
    "outputId": "bfcc2f91-f63d-46c2-f72b-a2ecb8d449d4",
    "scrolled": true
   },
   "outputs": [
    {
     "output_type": "stream",
     "name": "stdout",
     "text": [
      "Requirement already satisfied: deepcut in c:\\users\\mrtk\\appdata\\roaming\\python\\python37\\site-packages (0.7.0.0)\n",
      "Requirement already satisfied: tensorflow>=2.0.0 in c:\\users\\mrtk\\anaconda3\\lib\\site-packages (from deepcut) (2.3.0)\n",
      "Requirement already satisfied: scipy in c:\\users\\mrtk\\anaconda3\\lib\\site-packages (from deepcut) (1.5.2)\n",
      "Requirement already satisfied: scikit-learn in c:\\users\\mrtk\\anaconda3\\lib\\site-packages (from deepcut) (0.23.2)\n",
      "Requirement already satisfied: numpy in c:\\users\\mrtk\\appdata\\roaming\\python\\python37\\site-packages (from deepcut) (1.19.5)\n",
      "Requirement already satisfied: pandas in c:\\users\\mrtk\\anaconda3\\lib\\site-packages (from deepcut) (1.1.1)\n",
      "Requirement already satisfied: h5py in c:\\users\\mrtk\\appdata\\roaming\\python\\python37\\site-packages (from deepcut) (2.10.0)\n",
      "Requirement already satisfied: absl-py>=0.7.0 in c:\\users\\mrtk\\anaconda3\\lib\\site-packages (from tensorflow>=2.0.0->deepcut) (0.10.0)\n",
      "Requirement already satisfied: protobuf>=3.9.2 in c:\\users\\mrtk\\anaconda3\\lib\\site-packages (from tensorflow>=2.0.0->deepcut) (3.13.0)\n",
      "Requirement already satisfied: tensorboard<3,>=2.3.0 in c:\\users\\mrtk\\anaconda3\\lib\\site-packages (from tensorflow>=2.0.0->deepcut) (2.3.0)\n",
      "Requirement already satisfied: astunparse==1.6.3 in c:\\users\\mrtk\\anaconda3\\lib\\site-packages (from tensorflow>=2.0.0->deepcut) (1.6.3)\n",
      "Requirement already satisfied: grpcio>=1.8.6 in c:\\users\\mrtk\\anaconda3\\lib\\site-packages (from tensorflow>=2.0.0->deepcut) (1.31.0)\n",
      "Requirement already satisfied: gast==0.3.3 in c:\\users\\mrtk\\anaconda3\\lib\\site-packages (from tensorflow>=2.0.0->deepcut) (0.3.3)\n",
      "Requirement already satisfied: opt-einsum>=2.3.2 in c:\\users\\mrtk\\anaconda3\\lib\\site-packages (from tensorflow>=2.0.0->deepcut) (3.3.0)\n",
      "Requirement already satisfied: wrapt>=1.11.1 in c:\\users\\mrtk\\anaconda3\\lib\\site-packages (from tensorflow>=2.0.0->deepcut) (1.11.2)\n",
      "Requirement already satisfied: six>=1.12.0 in c:\\users\\mrtk\\anaconda3\\lib\\site-packages (from tensorflow>=2.0.0->deepcut) (1.15.0)\n",
      "Requirement already satisfied: tensorflow-estimator<2.4.0,>=2.3.0 in c:\\users\\mrtk\\anaconda3\\lib\\site-packages (from tensorflow>=2.0.0->deepcut) (2.3.0)\n",
      "Requirement already satisfied: keras-preprocessing<1.2,>=1.1.1 in c:\\users\\mrtk\\anaconda3\\lib\\site-packages (from tensorflow>=2.0.0->deepcut) (1.1.2)\n",
      "Requirement already satisfied: google-pasta>=0.1.8 in c:\\users\\mrtk\\anaconda3\\lib\\site-packages (from tensorflow>=2.0.0->deepcut) (0.2.0)\n",
      "Requirement already satisfied: termcolor>=1.1.0 in c:\\users\\mrtk\\anaconda3\\lib\\site-packages (from tensorflow>=2.0.0->deepcut) (1.1.0)\n",
      "Requirement already satisfied: wheel>=0.26 in c:\\users\\mrtk\\anaconda3\\lib\\site-packages (from tensorflow>=2.0.0->deepcut) (0.35.1)\n",
      "Requirement already satisfied: threadpoolctl>=2.0.0 in c:\\users\\mrtk\\anaconda3\\lib\\site-packages (from scikit-learn->deepcut) (2.1.0)\n",
      "Requirement already satisfied: joblib>=0.11 in c:\\users\\mrtk\\anaconda3\\lib\\site-packages (from scikit-learn->deepcut) (0.16.0)\n",
      "Requirement already satisfied: python-dateutil>=2.7.3 in c:\\users\\mrtk\\anaconda3\\lib\\site-packages (from pandas->deepcut) (2.8.1)\n",
      "Requirement already satisfied: pytz>=2017.2 in c:\\users\\mrtk\\anaconda3\\lib\\site-packages (from pandas->deepcut) (2020.1)\n",
      "Requirement already satisfied: setuptools in c:\\users\\mrtk\\anaconda3\\lib\\site-packages (from protobuf>=3.9.2->tensorflow>=2.0.0->deepcut) (49.6.0.post20200925)\n",
      "Requirement already satisfied: requests<3,>=2.21.0 in c:\\users\\mrtk\\anaconda3\\lib\\site-packages (from tensorboard<3,>=2.3.0->tensorflow>=2.0.0->deepcut) (2.24.0)\n",
      "Requirement already satisfied: markdown>=2.6.8 in c:\\users\\mrtk\\anaconda3\\lib\\site-packages (from tensorboard<3,>=2.3.0->tensorflow>=2.0.0->deepcut) (3.2.2)\n",
      "Requirement already satisfied: tensorboard-plugin-wit>=1.6.0 in c:\\users\\mrtk\\anaconda3\\lib\\site-packages (from tensorboard<3,>=2.3.0->tensorflow>=2.0.0->deepcut) (1.7.0)\n",
      "Requirement already satisfied: werkzeug>=0.11.15 in c:\\users\\mrtk\\anaconda3\\lib\\site-packages (from tensorboard<3,>=2.3.0->tensorflow>=2.0.0->deepcut) (1.0.1)\n",
      "Requirement already satisfied: google-auth-oauthlib<0.5,>=0.4.1 in c:\\users\\mrtk\\anaconda3\\lib\\site-packages (from tensorboard<3,>=2.3.0->tensorflow>=2.0.0->deepcut) (0.4.1)\n",
      "Requirement already satisfied: google-auth<2,>=1.6.3 in c:\\users\\mrtk\\anaconda3\\lib\\site-packages (from tensorboard<3,>=2.3.0->tensorflow>=2.0.0->deepcut) (1.21.1)\n",
      "Requirement already satisfied: chardet<4,>=3.0.2 in c:\\users\\mrtk\\anaconda3\\lib\\site-packages (from requests<3,>=2.21.0->tensorboard<3,>=2.3.0->tensorflow>=2.0.0->deepcut) (3.0.4)\n",
      "Requirement already satisfied: idna<3,>=2.5 in c:\\users\\mrtk\\anaconda3\\lib\\site-packages (from requests<3,>=2.21.0->tensorboard<3,>=2.3.0->tensorflow>=2.0.0->deepcut) (2.10)\n",
      "Requirement already satisfied: urllib3!=1.25.0,!=1.25.1,<1.26,>=1.21.1 in c:\\users\\mrtk\\anaconda3\\lib\\site-packages (from requests<3,>=2.21.0->tensorboard<3,>=2.3.0->tensorflow>=2.0.0->deepcut) (1.25.10)\n",
      "Requirement already satisfied: certifi>=2017.4.17 in c:\\users\\mrtk\\anaconda3\\lib\\site-packages (from requests<3,>=2.21.0->tensorboard<3,>=2.3.0->tensorflow>=2.0.0->deepcut) (2020.6.20)\n",
      "Requirement already satisfied: importlib-metadata; python_version < \"3.8\" in c:\\users\\mrtk\\anaconda3\\lib\\site-packages (from markdown>=2.6.8->tensorboard<3,>=2.3.0->tensorflow>=2.0.0->deepcut) (1.7.0)\n",
      "Requirement already satisfied: requests-oauthlib>=0.7.0 in c:\\users\\mrtk\\anaconda3\\lib\\site-packages (from google-auth-oauthlib<0.5,>=0.4.1->tensorboard<3,>=2.3.0->tensorflow>=2.0.0->deepcut) (1.3.0)\n",
      "Requirement already satisfied: cachetools<5.0,>=2.0.0 in c:\\users\\mrtk\\anaconda3\\lib\\site-packages (from google-auth<2,>=1.6.3->tensorboard<3,>=2.3.0->tensorflow>=2.0.0->deepcut) (4.1.1)\n",
      "Requirement already satisfied: rsa<5,>=3.1.4; python_version >= \"3.5\" in c:\\users\\mrtk\\anaconda3\\lib\\site-packages (from google-auth<2,>=1.6.3->tensorboard<3,>=2.3.0->tensorflow>=2.0.0->deepcut) (4.6)\n",
      "Requirement already satisfied: pyasn1-modules>=0.2.1 in c:\\users\\mrtk\\anaconda3\\lib\\site-packages (from google-auth<2,>=1.6.3->tensorboard<3,>=2.3.0->tensorflow>=2.0.0->deepcut) (0.2.8)\n",
      "Requirement already satisfied: zipp>=0.5 in c:\\users\\mrtk\\anaconda3\\lib\\site-packages (from importlib-metadata; python_version < \"3.8\"->markdown>=2.6.8->tensorboard<3,>=2.3.0->tensorflow>=2.0.0->deepcut) (3.1.0)\n",
      "Requirement already satisfied: oauthlib>=3.0.0 in c:\\users\\mrtk\\anaconda3\\lib\\site-packages (from requests-oauthlib>=0.7.0->google-auth-oauthlib<0.5,>=0.4.1->tensorboard<3,>=2.3.0->tensorflow>=2.0.0->deepcut) (3.1.0)\n",
      "Requirement already satisfied: pyasn1>=0.1.3 in c:\\users\\mrtk\\anaconda3\\lib\\site-packages (from rsa<5,>=3.1.4; python_version >= \"3.5\"->google-auth<2,>=1.6.3->tensorboard<3,>=2.3.0->tensorflow>=2.0.0->deepcut) (0.4.8)\n"
     ]
    }
   ],
   "source": [
    "!pip install deepcut --user"
   ]
  },
  {
   "cell_type": "code",
   "execution_count": 2,
   "metadata": {},
   "outputs": [
    {
     "output_type": "stream",
     "name": "stdout",
     "text": [
      "Requirement already satisfied: flask_ngrok in c:\\users\\mrtk\\anaconda3\\lib\\site-packages (0.0.25)\nRequirement already satisfied: requests in c:\\users\\mrtk\\anaconda3\\lib\\site-packages (from flask_ngrok) (2.24.0)\nRequirement already satisfied: Flask>=0.8 in c:\\users\\mrtk\\anaconda3\\lib\\site-packages (from flask_ngrok) (1.1.2)\nRequirement already satisfied: idna<3,>=2.5 in c:\\users\\mrtk\\anaconda3\\lib\\site-packages (from requests->flask_ngrok) (2.10)\nRequirement already satisfied: urllib3!=1.25.0,!=1.25.1,<1.26,>=1.21.1 in c:\\users\\mrtk\\anaconda3\\lib\\site-packages (from requests->flask_ngrok) (1.25.10)\nRequirement already satisfied: chardet<4,>=3.0.2 in c:\\users\\mrtk\\anaconda3\\lib\\site-packages (from requests->flask_ngrok) (3.0.4)\nRequirement already satisfied: certifi>=2017.4.17 in c:\\users\\mrtk\\anaconda3\\lib\\site-packages (from requests->flask_ngrok) (2020.6.20)\nRequirement already satisfied: Jinja2>=2.10.1 in c:\\users\\mrtk\\anaconda3\\lib\\site-packages (from Flask>=0.8->flask_ngrok) (2.11.2)\nRequirement already satisfied: Werkzeug>=0.15 in c:\\users\\mrtk\\anaconda3\\lib\\site-packages (from Flask>=0.8->flask_ngrok) (1.0.1)\nRequirement already satisfied: itsdangerous>=0.24 in c:\\users\\mrtk\\anaconda3\\lib\\site-packages (from Flask>=0.8->flask_ngrok) (1.1.0)\nRequirement already satisfied: click>=5.1 in c:\\users\\mrtk\\anaconda3\\lib\\site-packages (from Flask>=0.8->flask_ngrok) (7.1.2)\nRequirement already satisfied: MarkupSafe>=0.23 in c:\\users\\mrtk\\anaconda3\\lib\\site-packages (from Jinja2>=2.10.1->Flask>=0.8->flask_ngrok) (1.1.1)\n"
     ]
    }
   ],
   "source": [
    "!pip install flask_ngrok --user"
   ]
  },
  {
   "cell_type": "code",
   "execution_count": 4,
   "metadata": {
    "colab": {
     "base_uri": "https://localhost:8080/"
    },
    "id": "8KARCcZE-P82",
    "outputId": "7601ebbc-6c20-40a0-fa8b-0c465ab5b3c7"
   },
   "outputs": [],
   "source": [
    "import deepcut\n",
    "import pandas as pd\n",
    "import numpy as np\n",
    "from itertools import chain\n",
    "import scipy.sparse as sp\n",
    "from sklearn.feature_extraction.text import TfidfTransformer\n",
    "from sklearn.decomposition import TruncatedSVD\n",
    "from sklearn.linear_model import LogisticRegression\n",
    "import joblib\n",
    "import pickle\n",
    "from flask_ngrok import run_with_ngrok\n",
    "from flask import Flask\n",
    "import json"
   ]
  },
  {
   "cell_type": "code",
   "execution_count": 6,
   "metadata": {
    "colab": {
     "base_uri": "https://localhost:8080/",
     "height": 225
    },
    "id": "hgxecqEzERyu",
    "outputId": "ee78afc3-9421-442f-f072-66f04a88cfbd"
   },
   "outputs": [
    {
     "output_type": "execute_result",
     "data": {
      "text/plain": [
       "             Category\n",
       "0            หลักสูตร\n",
       "1              ฝึกงาน\n",
       "2      ลงทะเบียนเรียน\n",
       "3  การรับเข้านักศึกษา\n",
       "4         ทุนการศึกษา\n",
       "5         คำถามทั่วไป"
      ],
      "text/html": "<div>\n<style scoped>\n    .dataframe tbody tr th:only-of-type {\n        vertical-align: middle;\n    }\n\n    .dataframe tbody tr th {\n        vertical-align: top;\n    }\n\n    .dataframe thead th {\n        text-align: right;\n    }\n</style>\n<table border=\"1\" class=\"dataframe\">\n  <thead>\n    <tr style=\"text-align: right;\">\n      <th></th>\n      <th>Category</th>\n    </tr>\n  </thead>\n  <tbody>\n    <tr>\n      <th>0</th>\n      <td>หลักสูตร</td>\n    </tr>\n    <tr>\n      <th>1</th>\n      <td>ฝึกงาน</td>\n    </tr>\n    <tr>\n      <th>2</th>\n      <td>ลงทะเบียนเรียน</td>\n    </tr>\n    <tr>\n      <th>3</th>\n      <td>การรับเข้านักศึกษา</td>\n    </tr>\n    <tr>\n      <th>4</th>\n      <td>ทุนการศึกษา</td>\n    </tr>\n    <tr>\n      <th>5</th>\n      <td>คำถามทั่วไป</td>\n    </tr>\n  </tbody>\n</table>\n</div>"
     },
     "metadata": {},
     "execution_count": 6
    }
   ],
   "source": [
    "data = pd.read_excel(\"Category.xlsx\")\n",
    "data"
   ]
  },
  {
   "cell_type": "code",
   "execution_count": 7,
   "metadata": {
    "id": "y70ctFO2-roU"
   },
   "outputs": [],
   "source": [
    "#Load File\n",
    "with open('token_text_category.data', 'rb') as filehandle:\n",
    "    # read the data as binary data stream\n",
    "    tokenized_texts = pickle.load(filehandle)"
   ]
  },
  {
   "cell_type": "code",
   "execution_count": 8,
   "metadata": {
    "colab": {
     "base_uri": "https://localhost:8080/"
    },
    "id": "ZMDp-B7h-6FT",
    "outputId": "ab6e3a1c-dead-4352-9f45-8e37efe7f83c",
    "scrolled": true
   },
   "outputs": [],
   "source": [
    "# tokenized_texts"
   ]
  },
  {
   "cell_type": "code",
   "execution_count": 9,
   "metadata": {
    "id": "fRHJME40-7kk"
   },
   "outputs": [],
   "source": [
    "def text_to_bow(tokenized_text, vocabulary_):\n",
    "    n_doc = len(tokenized_text)\n",
    "    values, row_indices, col_indices = [], [], []\n",
    "    for r, tokens in enumerate(tokenized_text):\n",
    "        feature = {}\n",
    "        for token in tokens:\n",
    "            word_index = vocabulary_.get(token)\n",
    "            if word_index is not None:\n",
    "                if word_index not in feature.keys():\n",
    "                    feature[word_index] = 1\n",
    "                else:\n",
    "                    feature[word_index] += 1\n",
    "        for c, v in feature.items():\n",
    "            values.append(v)\n",
    "            row_indices.append(r)\n",
    "            col_indices.append(c)\n",
    "        #print(feature)\n",
    "\n",
    "    # document-term matrix in sparse CSR format\n",
    "    X = sp.csr_matrix((values, (row_indices, col_indices)),\n",
    "                      shape=(n_doc, len(vocabulary_)))\n",
    "    return X\n",
    "\n",
    "vocabulary_ = {v: k for k, v in enumerate(set(chain.from_iterable(tokenized_texts)))}\n",
    "X = text_to_bow(tokenized_texts, vocabulary_)"
   ]
  },
  {
   "cell_type": "code",
   "execution_count": 10,
   "metadata": {
    "id": "IyPIuB44_Abk"
   },
   "outputs": [],
   "source": [
    "transformer = TfidfTransformer()\n",
    "svd_model = TruncatedSVD(n_components=100,\n",
    "                         algorithm='arpack', n_iter=100)\n",
    "X_tfidf = transformer.fit_transform(X)\n",
    "X_svd = svd_model.fit_transform(X_tfidf)"
   ]
  },
  {
   "cell_type": "code",
   "execution_count": 11,
   "metadata": {
    "id": "BL0WPxWUAXpM"
   },
   "outputs": [],
   "source": [
    "tag = pd.get_dummies(data.Category).columns"
   ]
  },
  {
   "cell_type": "code",
   "execution_count": 12,
   "metadata": {
    "id": "isTw-ieb_Eoj"
   },
   "outputs": [
    {
     "output_type": "stream",
     "name": "stderr",
     "text": [
      "C:\\Users\\MrTK\\anaconda3\\lib\\site-packages\\sklearn\\base.py:334: UserWarning: Trying to unpickle estimator LogisticRegression from version 0.22.2.post1 when using version 0.23.2. This might lead to breaking code or invalid results. Use at your own risk.\n  UserWarning)\n"
     ]
    }
   ],
   "source": [
    "#Load Model\n",
    "logist_models = joblib.load(\"category_model.pkl\")"
   ]
  },
  {
   "cell_type": "code",
   "execution_count": 13,
   "metadata": {
    "colab": {
     "base_uri": "https://localhost:8080/"
    },
    "id": "2Cw7J-eC_JI0",
    "outputId": "3af7214e-8d8b-47c7-9797-91e59035d436"
   },
   "outputs": [
    {
     "output_type": "execute_result",
     "data": {
      "text/plain": [
       "[LogisticRegression(),\n",
       " LogisticRegression(),\n",
       " LogisticRegression(),\n",
       " LogisticRegression(),\n",
       " LogisticRegression(),\n",
       " LogisticRegression()]"
      ]
     },
     "metadata": {},
     "execution_count": 13
    }
   ],
   "source": [
    "logist_models"
   ]
  },
  {
   "cell_type": "code",
   "execution_count": 14,
   "metadata": {
    "colab": {
     "base_uri": "https://localhost:8080/"
    },
    "id": "ZSS5MI1X_MnU",
    "outputId": "11b0e900-5fb1-4228-962c-119a66dd7dea"
   },
   "outputs": [
    {
     "output_type": "stream",
     "name": "stdout",
     "text": [
      "Index(['การรับเข้านักศึกษา', 'คำถามทั่วไป', 'ทุนการศึกษา', 'ฝึกงาน',\n       'ลงทะเบียนเรียน', 'หลักสูตร'],\n      dtype='object')\n"
     ]
    }
   ],
   "source": [
    "y_pred = np.argmax(np.vstack([model.predict_proba(X_svd)[:, 1] for model in logist_models]).T, axis=1)\n",
    "y_pred = np.array([tag[yi] for yi in y_pred])\n",
    "y_true = data.Category.values\n",
    "print(tag[0:6])"
   ]
  },
  {
   "cell_type": "markdown",
   "metadata": {},
   "source": [
    "# time total"
   ]
  },
  {
   "cell_type": "code",
   "execution_count": 28,
   "metadata": {},
   "outputs": [
    {
     "output_type": "stream",
     "name": "stdout",
     "text": [
      "[('การรับเข้านักศึกษา', 0.1251187945483276), ('คำถามทั่วไป', 0.14597382228539788), ('ทุนการศึกษา', 0.05706560577766545), ('ฝึกงาน', 0.031089886042378306), ('ลงทะเบียนเรียน', 0.09189157863959546), ('หลักสูตร', 0.48116852846494396)]\nหลักสูตร 0.48116852846494396\nWall time: 37.5 ms\n"
     ]
    }
   ],
   "source": [
    "%%time\n",
    "text =  'วิศวคอมพิวเตอร์มีหลักสูตรอะไรบ้าง'\n",
    "tokenized_text = deepcut.tokenize(text)\n",
    "x = text_to_bow([tokenized_text], vocabulary_)\n",
    "x_tfidf = transformer.transform(x)\n",
    "x_svd = svd_model.transform(x_tfidf)\n",
    "pred = [model.predict_proba(x_svd.reshape(-1, 1).T).ravel()[1] for model in logist_models]\n",
    "print(list(zip(tag, pred)))\n",
    "predict_category = max(list(zip(tag, pred)))\n",
    "max_value = 0\n",
    "max_category = ''\n",
    "pred_results = list(zip(tag, pred))\n",
    "for pred_result in pred_results:\n",
    "  # print(pred_result)\n",
    "  if pred_result[1] > max_value:\n",
    "    max_value = pred_result[1]\n",
    "    max_category = pred_result[0]\n",
    "print(max_category, max_value)\n",
    "value = {\n",
    "  \"category\": max_category,\n",
    "  \"accuracy\": max_value\n",
    "}"
   ]
  },
  {
   "cell_type": "markdown",
   "metadata": {},
   "source": [
    "# time seperate"
   ]
  },
  {
   "cell_type": "code",
   "execution_count": 16,
   "metadata": {},
   "outputs": [
    {
     "output_type": "stream",
     "name": "stdout",
     "text": [
      "Wall time: 36.2 ms\n"
     ]
    }
   ],
   "source": [
    "%%time\n",
    "text =  'วิศวคอมพิวเตอร์มีหลักสูตรอะไรบ้าง'\n",
    "tokenized_text = deepcut.tokenize(text)"
   ]
  },
  {
   "cell_type": "code",
   "execution_count": 17,
   "metadata": {},
   "outputs": [
    {
     "output_type": "stream",
     "name": "stdout",
     "text": [
      "Wall time: 1.3 ms\n"
     ]
    }
   ],
   "source": [
    "%%time\n",
    "x = text_to_bow([tokenized_text], vocabulary_)"
   ]
  },
  {
   "cell_type": "code",
   "execution_count": 18,
   "metadata": {},
   "outputs": [
    {
     "output_type": "stream",
     "name": "stdout",
     "text": [
      "Wall time: 991 µs\n"
     ]
    }
   ],
   "source": [
    "%%time\n",
    "x_tfidf = transformer.transform(x)"
   ]
  },
  {
   "cell_type": "code",
   "execution_count": 19,
   "metadata": {},
   "outputs": [
    {
     "output_type": "stream",
     "name": "stdout",
     "text": [
      "Wall time: 0 ns\n"
     ]
    }
   ],
   "source": [
    "%%time\n",
    "x_svd = svd_model.transform(x_tfidf)"
   ]
  },
  {
   "cell_type": "code",
   "execution_count": 20,
   "metadata": {},
   "outputs": [
    {
     "output_type": "stream",
     "name": "stdout",
     "text": [
      "Wall time: 1 ms\n"
     ]
    }
   ],
   "source": [
    "%%time\n",
    "pred = [model.predict_proba(x_svd.reshape(-1, 1).T).ravel()[1] for model in logist_models]"
   ]
  },
  {
   "cell_type": "code",
   "execution_count": 21,
   "metadata": {},
   "outputs": [
    {
     "output_type": "stream",
     "name": "stdout",
     "text": [
      "[('การรับเข้านักศึกษา', 0.1251187945483276), ('คำถามทั่วไป', 0.14597382228539788), ('ทุนการศึกษา', 0.05706560577766545), ('ฝึกงาน', 0.031089886042378306), ('ลงทะเบียนเรียน', 0.09189157863959546), ('หลักสูตร', 0.48116852846494396)]\nWall time: 0 ns\n"
     ]
    }
   ],
   "source": [
    "%%time\n",
    "print(list(zip(tag, pred)))"
   ]
  },
  {
   "cell_type": "code",
   "execution_count": 22,
   "metadata": {},
   "outputs": [
    {
     "output_type": "stream",
     "name": "stdout",
     "text": [
      "Wall time: 0 ns\n"
     ]
    }
   ],
   "source": [
    "%%time\n",
    "predict_category = max(list(zip(tag, pred)))"
   ]
  },
  {
   "cell_type": "code",
   "execution_count": 23,
   "metadata": {},
   "outputs": [
    {
     "output_type": "stream",
     "name": "stdout",
     "text": [
      "Wall time: 0 ns\n"
     ]
    }
   ],
   "source": [
    "%%time\n",
    "max_value = 0\n",
    "max_category = ''"
   ]
  },
  {
   "cell_type": "code",
   "execution_count": 24,
   "metadata": {},
   "outputs": [
    {
     "output_type": "stream",
     "name": "stdout",
     "text": [
      "Wall time: 0 ns\n"
     ]
    }
   ],
   "source": [
    "%%time\n",
    "pred_results = list(zip(tag, pred))"
   ]
  },
  {
   "cell_type": "code",
   "execution_count": 25,
   "metadata": {},
   "outputs": [
    {
     "output_type": "stream",
     "name": "stdout",
     "text": [
      "หลักสูตร 0.48116852846494396\nWall time: 0 ns\n"
     ]
    }
   ],
   "source": [
    "%%time\n",
    "for pred_result in pred_results:\n",
    "  # print(pred_result)\n",
    "  if pred_result[1] > max_value:\n",
    "    max_value = pred_result[1]\n",
    "    max_category = pred_result[0]\n",
    "print(max_category, max_value)"
   ]
  },
  {
   "cell_type": "code",
   "execution_count": 26,
   "metadata": {},
   "outputs": [
    {
     "output_type": "stream",
     "name": "stdout",
     "text": [
      "Wall time: 0 ns\n"
     ]
    }
   ],
   "source": [
    "%%time\n",
    "value = {\n",
    "  \"category\": max_category,\n",
    "  \"accuracy\": max_value\n",
    "}"
   ]
  }
 ],
 "metadata": {
  "accelerator": "GPU",
  "colab": {
   "collapsed_sections": [],
   "machine_shape": "hm",
   "name": "Play_Model_category.ipynb",
   "provenance": []
  },
  "kernelspec": {
   "name": "python379jvsc74a57bd0a3a0641bae6d57a3d2276a610fea7edcbe64d6ded88b6a827737b628ad2a996f",
   "display_name": "Python 3.7.9 64-bit ('base': conda)"
  },
  "language_info": {
   "codemirror_mode": {
    "name": "ipython",
    "version": 3
   },
   "file_extension": ".py",
   "mimetype": "text/x-python",
   "name": "python",
   "nbconvert_exporter": "python",
   "pygments_lexer": "ipython3",
   "version": "3.7.9"
  }
 },
 "nbformat": 4,
 "nbformat_minor": 1
}